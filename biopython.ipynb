{
 "cells": [
  {
   "cell_type": "code",
   "execution_count": 2,
   "metadata": {},
   "outputs": [
    {
     "name": "stdout",
     "output_type": "stream",
     "text": [
      "AGGGAGTTCTCTAGA\n",
      "['ABC', 'BiopythonWarning', 'CodonTable', 'IUPACData', 'MutableSeq', 'Optional', 'Seq', 'SequenceDataAbstractBaseClass', 'UndefinedSequenceError', 'Union', '_PartiallyDefinedSequenceData', '_SeqAbstractBaseClass', '_UndefinedSequenceData', '__builtins__', '__cached__', '__doc__', '__file__', '__loader__', '__name__', '__package__', '__spec__', '_dna_complement_table', '_maketrans', '_rna_complement_table', '_test', '_translate_str', 'abstractmethod', 'back_transcribe', 'collections', 'complement', 'complement_rna', 'numbers', 'overload', 'reverse_complement', 'reverse_complement_rna', 'transcribe', 'translate', 'warnings']\n",
      "<module 'Bio.Data.CodonTable' from 'c:\\\\Users\\\\Neermita Bhattachary\\\\AppData\\\\Local\\\\Programs\\\\Python\\\\Python312\\\\Lib\\\\site-packages\\\\Bio\\\\Data\\\\CodonTable.py'>\n"
     ]
    }
   ],
   "source": [
    "from Bio.Seq import Seq\n",
    "from Bio import SeqIO\n",
    "import Bio.Seq as s\n",
    "import Bio\n",
    "data= Seq(\"AGGGAGTTCTCTAGA\")\n",
    "print(data)\n",
    "print(dir(Bio.Seq))\n",
    "print(s.CodonTable)"
   ]
  },
  {
   "cell_type": "markdown",
   "metadata": {},
   "source": [
    "## Basic DNA manipulations"
   ]
  },
  {
   "cell_type": "code",
   "execution_count": 3,
   "metadata": {},
   "outputs": [
    {
     "name": "stdout",
     "output_type": "stream",
     "text": [
      "auucgcgcguauauc\n",
      "IRAYI\n",
      "gatatacgcgcgaat\n",
      "gauauacgcgcgaau\n",
      "1\n",
      "attcgcgcgtatatc\n",
      "1\n",
      "2\n",
      "a c t g\n",
      "mttcgcgcgtmtmtc\n",
      "a-tt--g-c-t-ac-tg\n"
     ]
    }
   ],
   "source": [
    "## DNA methods\n",
    "\n",
    "dna= s.Seq(\"attcgcgcgtatatc\")\n",
    "print(dna.transcribe())\n",
    "print(dna.translate())\n",
    "print(dna.reverse_complement())\n",
    "print(dna.reverse_complement_rna())\n",
    "print(dna.find(\"tt\"))\n",
    "print(dna.back_transcribe())\n",
    "print(dna.count(\"cgc\"))\n",
    "print(dna.count_overlap(\"cgc\"))\n",
    "spacer=s.Seq(' ')\n",
    "spr=spacer.join(\"actg\")\n",
    "print(spr)\n",
    "print(dna.replace('a', 'm'))\n",
    "dna2=Bio.Seq.MutableSeq('a-tt--g-c-t-ac-tg')\n",
    "print(dna2)"
   ]
  },
  {
   "cell_type": "markdown",
   "metadata": {},
   "source": [
    "## FASTA files manipulations"
   ]
  },
  {
   "cell_type": "code",
   "execution_count": 4,
   "metadata": {},
   "outputs": [
    {
     "name": "stdout",
     "output_type": "stream",
     "text": [
      "ID: DQ137224.1\n",
      "Name: DQ137224\n",
      "Description: Megadyptes antipodes voucher JD64A cytochrome b (cytb) gene, partial cds; mitochondrial\n",
      "Number of features: 3\n",
      "/molecule_type=DNA\n",
      "/topology=linear\n",
      "/data_file_division=VRT\n",
      "/date=26-JUL-2016\n",
      "/accessions=['DQ137224']\n",
      "/sequence_version=1\n",
      "/keywords=['']\n",
      "/source=mitochondrion Megadyptes antipodes (Yellow-eyed penguin)\n",
      "/organism=Megadyptes antipodes\n",
      "/taxonomy=['Eukaryota', 'Metazoa', 'Chordata', 'Craniata', 'Vertebrata', 'Euteleostomi', 'Archelosauria', 'Archosauria', 'Dinosauria', 'Saurischia', 'Theropoda', 'Coelurosauria', 'Aves', 'Neognathae', 'Neoaves', 'Aequornithes', 'Sphenisciformes', 'Spheniscidae', 'Megadyptes']\n",
      "/references=[Reference(title='Multiple gene evidence for expansion of extant penguins out of Antarctica due to global cooling', ...), Reference(title='Direct Submission', ...)]\n",
      "Seq('ACACAAATTCTAACTGGCCTCCTACTGGCCGCCCACTACACTGCAGACACAACC...AGC')\n"
     ]
    }
   ],
   "source": [
    "## FASTA Files\n",
    "from Bio import Entrez\n",
    "Entrez.email = \"nemowbio@gmail.com\"\n",
    "handle = Entrez.efetch(db=\"nucleotide\", id=\"DQ137224\", rettype=\"gb\", retmode=\"text\")\n",
    "record = SeqIO.read(handle, \"genbank\")\n",
    "print(record)"
   ]
  },
  {
   "cell_type": "markdown",
   "metadata": {},
   "source": [
    "## COVID 19 Genome Analysis"
   ]
  },
  {
   "cell_type": "code",
   "execution_count": 5,
   "metadata": {},
   "outputs": [],
   "source": [
    "from Bio import Entrez, SeqIO, SeqFeature\n",
    "def fetch(ids):\n",
    "    Entrez.email=\"nemowbio@gmail.com\"\n",
    "    handle= Entrez.efetch(db=\"nucleotide\", id=ids, rettype=\"gb\", retmode=\"text\")\n",
    "    record= list(SeqIO.parse(handle, 'gb'))\n",
    "    handle.close()\n",
    "    return record"
   ]
  },
  {
   "cell_type": "code",
   "execution_count": 6,
   "metadata": {},
   "outputs": [],
   "source": [
    "record1=fetch(\"NC_045512.2\")"
   ]
  },
  {
   "cell_type": "code",
   "execution_count": 7,
   "metadata": {},
   "outputs": [],
   "source": [
    "record2=fetch(\"MN908947\")"
   ]
  },
  {
   "cell_type": "code",
   "execution_count": 8,
   "metadata": {},
   "outputs": [],
   "source": [
    "covid_seq1= record1[0].seq"
   ]
  },
  {
   "cell_type": "code",
   "execution_count": 9,
   "metadata": {},
   "outputs": [
    {
     "data": {
      "text/plain": [
       "Seq('ATTAAAGGTTTATACCTTCCCAGGTAACAAACCAACCAACTTTCGATCTCTTGT...AAA')"
      ]
     },
     "execution_count": 9,
     "metadata": {},
     "output_type": "execute_result"
    }
   ],
   "source": [
    "covid_seq1"
   ]
  },
  {
   "cell_type": "code",
   "execution_count": 10,
   "metadata": {},
   "outputs": [],
   "source": [
    "covid_seq2= record2[0].seq"
   ]
  },
  {
   "cell_type": "code",
   "execution_count": 11,
   "metadata": {},
   "outputs": [
    {
     "data": {
      "text/plain": [
       "Seq('ATTAAAGGTTTATACCTTCCCAGGTAACAAACCAACCAACTTTCGATCTCTTGT...AAA')"
      ]
     },
     "execution_count": 11,
     "metadata": {},
     "output_type": "execute_result"
    }
   ],
   "source": [
    "covid_seq2"
   ]
  },
  {
   "cell_type": "code",
   "execution_count": 12,
   "metadata": {},
   "outputs": [
    {
     "data": {
      "text/plain": [
       "True"
      ]
     },
     "execution_count": 12,
     "metadata": {},
     "output_type": "execute_result"
    }
   ],
   "source": [
    "covid_seq2==covid_seq1"
   ]
  },
  {
   "cell_type": "markdown",
   "metadata": {},
   "source": [
    "### Description"
   ]
  },
  {
   "cell_type": "code",
   "execution_count": 13,
   "metadata": {},
   "outputs": [
    {
     "data": {
      "text/plain": [
       "'Severe acute respiratory syndrome coronavirus 2 isolate Wuhan-Hu-1, complete genome'"
      ]
     },
     "execution_count": 13,
     "metadata": {},
     "output_type": "execute_result"
    }
   ],
   "source": [
    "record1[0].description"
   ]
  },
  {
   "cell_type": "markdown",
   "metadata": {},
   "source": [
    "###"
   ]
  },
  {
   "cell_type": "markdown",
   "metadata": {},
   "source": [
    "### Length of covid sequence"
   ]
  },
  {
   "cell_type": "code",
   "execution_count": 14,
   "metadata": {},
   "outputs": [
    {
     "name": "stdout",
     "output_type": "stream",
     "text": [
      "Length of sequence is: 29903\n"
     ]
    }
   ],
   "source": [
    "print(f\"Length of sequence is: {len(covid_seq1)}\")"
   ]
  },
  {
   "cell_type": "markdown",
   "metadata": {},
   "source": [
    "### Molecular Weight of COVID-19"
   ]
  },
  {
   "cell_type": "code",
   "execution_count": 15,
   "metadata": {},
   "outputs": [
    {
     "data": {
      "text/plain": [
       "9241219.214399999"
      ]
     },
     "execution_count": 15,
     "metadata": {},
     "output_type": "execute_result"
    }
   ],
   "source": [
    "from Bio.SeqUtils import molecular_weight\n",
    "molecular_weight(covid_seq1)"
   ]
  },
  {
   "cell_type": "markdown",
   "metadata": {},
   "source": [
    "### Stability of COVID-19 through GC content"
   ]
  },
  {
   "cell_type": "code",
   "execution_count": 16,
   "metadata": {},
   "outputs": [
    {
     "data": {
      "text/plain": [
       "(37.97277865097148, 34.71107544141252, 43.23836276083467, 35.968696699107056)"
      ]
     },
     "execution_count": 16,
     "metadata": {},
     "output_type": "execute_result"
    }
   ],
   "source": [
    "from Bio.SeqUtils import GC123\n",
    "GC123(covid_seq1)"
   ]
  },
  {
   "cell_type": "markdown",
   "metadata": {},
   "source": [
    "### Count of Nucleotides"
   ]
  },
  {
   "cell_type": "code",
   "execution_count": null,
   "metadata": {},
   "outputs": [],
   "source": []
  },
  {
   "cell_type": "code",
   "execution_count": null,
   "metadata": {},
   "outputs": [],
   "source": []
  }
 ],
 "metadata": {
  "kernelspec": {
   "display_name": "Python 3",
   "language": "python",
   "name": "python3"
  },
  "language_info": {
   "codemirror_mode": {
    "name": "ipython",
    "version": 3
   },
   "file_extension": ".py",
   "mimetype": "text/x-python",
   "name": "python",
   "nbconvert_exporter": "python",
   "pygments_lexer": "ipython3",
   "version": "3.12.4"
  }
 },
 "nbformat": 4,
 "nbformat_minor": 2
}
