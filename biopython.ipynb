{
 "cells": [
  {
   "cell_type": "code",
   "execution_count": 3,
   "metadata": {},
   "outputs": [],
   "source": [
    "import pandas as pd\n",
    "import numpy as np\n",
    "import matplotlib.pyplot as plt\n",
    "import scanpy as sc"
   ]
  },
  {
   "cell_type": "code",
   "execution_count": 4,
   "metadata": {},
   "outputs": [
    {
     "name": "stdout",
     "output_type": "stream",
     "text": [
      "AGGGAGTTCTCTAGA\n",
      "['ABC', 'BiopythonWarning', 'CodonTable', 'IUPACData', 'MutableSeq', 'Optional', 'Seq', 'SequenceDataAbstractBaseClass', 'UndefinedSequenceError', 'Union', '_PartiallyDefinedSequenceData', '_SeqAbstractBaseClass', '_UndefinedSequenceData', '__builtins__', '__cached__', '__doc__', '__file__', '__loader__', '__name__', '__package__', '__spec__', '_dna_complement_table', '_maketrans', '_rna_complement_table', '_test', '_translate_str', 'abstractmethod', 'back_transcribe', 'collections', 'complement', 'complement_rna', 'numbers', 'overload', 'reverse_complement', 'reverse_complement_rna', 'transcribe', 'translate', 'warnings']\n",
      "<module 'Bio.Data.CodonTable' from 'c:\\\\Users\\\\Neermita Bhattachary\\\\AppData\\\\Local\\\\Programs\\\\Python\\\\Python312\\\\Lib\\\\site-packages\\\\Bio\\\\Data\\\\CodonTable.py'>\n"
     ]
    }
   ],
   "source": [
    "from Bio.Seq import Seq\n",
    "from Bio import SeqIO\n",
    "import Bio.Seq as s\n",
    "import Bio\n",
    "data= Seq(\"AGGGAGTTCTCTAGA\")\n",
    "print(data)\n",
    "print(dir(Bio.Seq))\n",
    "print(s.CodonTable)"
   ]
  },
  {
   "cell_type": "markdown",
   "metadata": {},
   "source": [
    "## Basic DNA manipulations"
   ]
  },
  {
   "cell_type": "code",
   "execution_count": 3,
   "metadata": {},
   "outputs": [
    {
     "name": "stdout",
     "output_type": "stream",
     "text": [
      "auucgcgcguauauc\n",
      "IRAYI\n",
      "gatatacgcgcgaat\n",
      "gauauacgcgcgaau\n",
      "1\n",
      "attcgcgcgtatatc\n",
      "1\n",
      "2\n",
      "a c t g\n",
      "mttcgcgcgtmtmtc\n",
      "a-tt--g-c-t-ac-tg\n"
     ]
    }
   ],
   "source": [
    "## DNA methods\n",
    "\n",
    "dna= s.Seq(\"attcgcgcgtatatc\")\n",
    "print(dna.transcribe())\n",
    "print(dna.translate())\n",
    "print(dna.reverse_complement())\n",
    "print(dna.reverse_complement_rna())\n",
    "print(dna.find(\"tt\"))\n",
    "print(dna.back_transcribe())\n",
    "print(dna.count(\"cgc\"))\n",
    "print(dna.count_overlap(\"cgc\"))\n",
    "spacer=s.Seq(' ')\n",
    "spr=spacer.join(\"actg\")\n",
    "print(spr)\n",
    "print(dna.replace('a', 'm'))\n",
    "dna2=Bio.Seq.MutableSeq('a-tt--g-c-t-ac-tg')\n",
    "print(dna2)"
   ]
  },
  {
   "cell_type": "markdown",
   "metadata": {},
   "source": [
    "## FASTA files manipulations"
   ]
  },
  {
   "cell_type": "code",
   "execution_count": 5,
   "metadata": {},
   "outputs": [
    {
     "name": "stdout",
     "output_type": "stream",
     "text": [
      "ID: DQ137224.1\n",
      "Name: DQ137224\n",
      "Description: Megadyptes antipodes voucher JD64A cytochrome b (cytb) gene, partial cds; mitochondrial\n",
      "Number of features: 3\n",
      "/molecule_type=DNA\n",
      "/topology=linear\n",
      "/data_file_division=VRT\n",
      "/date=26-JUL-2016\n",
      "/accessions=['DQ137224']\n",
      "/sequence_version=1\n",
      "/keywords=['']\n",
      "/source=mitochondrion Megadyptes antipodes (Yellow-eyed penguin)\n",
      "/organism=Megadyptes antipodes\n",
      "/taxonomy=['Eukaryota', 'Metazoa', 'Chordata', 'Craniata', 'Vertebrata', 'Euteleostomi', 'Archelosauria', 'Archosauria', 'Dinosauria', 'Saurischia', 'Theropoda', 'Coelurosauria', 'Aves', 'Neognathae', 'Neoaves', 'Aequornithes', 'Sphenisciformes', 'Spheniscidae', 'Megadyptes']\n",
      "/references=[Reference(title='Multiple gene evidence for expansion of extant penguins out of Antarctica due to global cooling', ...), Reference(title='Direct Submission', ...)]\n",
      "Seq('ACACAAATTCTAACTGGCCTCCTACTGGCCGCCCACTACACTGCAGACACAACC...AGC')\n"
     ]
    }
   ],
   "source": [
    "## FASTA Files\n",
    "from Bio import Entrez\n",
    "Entrez.email = \"nemowbio@gmail.com\"\n",
    "handle = Entrez.efetch(db=\"nucleotide\", id=\"DQ137224\", rettype=\"gb\", retmode=\"text\")\n",
    "record = SeqIO.read(handle, \"genbank\")\n",
    "print(record)"
   ]
  },
  {
   "cell_type": "markdown",
   "metadata": {},
   "source": [
    "## COVID 19 Genome Analysis"
   ]
  },
  {
   "cell_type": "code",
   "execution_count": 44,
   "metadata": {},
   "outputs": [],
   "source": [
    "from Bio import Entrez, SeqIO, SeqFeature\n",
    "def fetch(ids):\n",
    "    Entrez.email=\"nemowbio@gmail.com\"\n",
    "    handle= Entrez.efetch(db=\"nucleotide\", id=ids, rettype=\"gb\", retmode=\"text\")\n",
    "    record= list(SeqIO.parse(handle, 'genbank'))\n",
    "    handle.close()\n",
    "    return record"
   ]
  },
  {
   "cell_type": "code",
   "execution_count": 45,
   "metadata": {},
   "outputs": [],
   "source": [
    "record1=fetch(\"NC_045512.2\")"
   ]
  },
  {
   "cell_type": "code",
   "execution_count": 46,
   "metadata": {},
   "outputs": [],
   "source": [
    "record2=fetch(\"MN908947\")"
   ]
  },
  {
   "cell_type": "code",
   "execution_count": 47,
   "metadata": {},
   "outputs": [],
   "source": [
    "covid_seq1= record1[0].seq"
   ]
  },
  {
   "cell_type": "code",
   "execution_count": 48,
   "metadata": {},
   "outputs": [
    {
     "data": {
      "text/plain": [
       "Seq('ATTAAAGGTTTATACCTTCCCAGGTAACAAACCAACCAACTTTCGATCTCTTGT...AAA')"
      ]
     },
     "execution_count": 48,
     "metadata": {},
     "output_type": "execute_result"
    }
   ],
   "source": [
    "covid_seq1"
   ]
  },
  {
   "cell_type": "code",
   "execution_count": 50,
   "metadata": {},
   "outputs": [],
   "source": [
    "covid_seq2= record2[0].seq"
   ]
  },
  {
   "cell_type": "code",
   "execution_count": 51,
   "metadata": {},
   "outputs": [
    {
     "data": {
      "text/plain": [
       "Seq('ATTAAAGGTTTATACCTTCCCAGGTAACAAACCAACCAACTTTCGATCTCTTGT...AAA')"
      ]
     },
     "execution_count": 51,
     "metadata": {},
     "output_type": "execute_result"
    }
   ],
   "source": [
    "covid_seq2"
   ]
  },
  {
   "cell_type": "code",
   "execution_count": 52,
   "metadata": {},
   "outputs": [
    {
     "data": {
      "text/plain": [
       "True"
      ]
     },
     "execution_count": 52,
     "metadata": {},
     "output_type": "execute_result"
    }
   ],
   "source": [
    "covid_seq2==covid_seq1"
   ]
  },
  {
   "cell_type": "code",
   "execution_count": 54,
   "metadata": {},
   "outputs": [
    {
     "data": {
      "text/plain": [
       "'NC_045512.2'"
      ]
     },
     "execution_count": 54,
     "metadata": {},
     "output_type": "execute_result"
    }
   ],
   "source": [
    "record1[0].id"
   ]
  },
  {
   "cell_type": "code",
   "execution_count": 56,
   "metadata": {},
   "outputs": [
    {
     "data": {
      "text/plain": [
       "[SeqFeature(SimpleLocation(ExactPosition(0), ExactPosition(29903), strand=1), type='source', qualifiers=...),\n",
       " SeqFeature(SimpleLocation(ExactPosition(0), ExactPosition(265), strand=1), type=\"5'UTR\"),\n",
       " SeqFeature(SimpleLocation(ExactPosition(265), ExactPosition(21555), strand=1), type='gene', qualifiers=...),\n",
       " SeqFeature(CompoundLocation([SimpleLocation(ExactPosition(265), ExactPosition(13468), strand=1), SimpleLocation(ExactPosition(13467), ExactPosition(21555), strand=1)], 'join'), type='CDS', qualifiers=...),\n",
       " SeqFeature(SimpleLocation(ExactPosition(265), ExactPosition(805), strand=1), type='mat_peptide', qualifiers=...),\n",
       " SeqFeature(SimpleLocation(ExactPosition(805), ExactPosition(2719), strand=1), type='mat_peptide', qualifiers=...),\n",
       " SeqFeature(SimpleLocation(ExactPosition(2719), ExactPosition(8554), strand=1), type='mat_peptide', qualifiers=...),\n",
       " SeqFeature(SimpleLocation(ExactPosition(8554), ExactPosition(10054), strand=1), type='mat_peptide', qualifiers=...),\n",
       " SeqFeature(SimpleLocation(ExactPosition(10054), ExactPosition(10972), strand=1), type='mat_peptide', qualifiers=...),\n",
       " SeqFeature(SimpleLocation(ExactPosition(10972), ExactPosition(11842), strand=1), type='mat_peptide', qualifiers=...),\n",
       " SeqFeature(SimpleLocation(ExactPosition(11842), ExactPosition(12091), strand=1), type='mat_peptide', qualifiers=...),\n",
       " SeqFeature(SimpleLocation(ExactPosition(12091), ExactPosition(12685), strand=1), type='mat_peptide', qualifiers=...),\n",
       " SeqFeature(SimpleLocation(ExactPosition(12685), ExactPosition(13024), strand=1), type='mat_peptide', qualifiers=...),\n",
       " SeqFeature(SimpleLocation(ExactPosition(13024), ExactPosition(13441), strand=1), type='mat_peptide', qualifiers=...),\n",
       " SeqFeature(CompoundLocation([SimpleLocation(ExactPosition(13441), ExactPosition(13468), strand=1), SimpleLocation(ExactPosition(13467), ExactPosition(16236), strand=1)], 'join'), type='mat_peptide', qualifiers=...),\n",
       " SeqFeature(SimpleLocation(ExactPosition(16236), ExactPosition(18039), strand=1), type='mat_peptide', qualifiers=...),\n",
       " SeqFeature(SimpleLocation(ExactPosition(18039), ExactPosition(19620), strand=1), type='mat_peptide', qualifiers=...),\n",
       " SeqFeature(SimpleLocation(ExactPosition(19620), ExactPosition(20658), strand=1), type='mat_peptide', qualifiers=...),\n",
       " SeqFeature(SimpleLocation(ExactPosition(20658), ExactPosition(21552), strand=1), type='mat_peptide', qualifiers=...),\n",
       " SeqFeature(SimpleLocation(ExactPosition(265), ExactPosition(13483), strand=1), type='CDS', qualifiers=...),\n",
       " SeqFeature(SimpleLocation(ExactPosition(265), ExactPosition(805), strand=1), type='mat_peptide', qualifiers=...),\n",
       " SeqFeature(SimpleLocation(ExactPosition(805), ExactPosition(2719), strand=1), type='mat_peptide', qualifiers=...),\n",
       " SeqFeature(SimpleLocation(ExactPosition(2719), ExactPosition(8554), strand=1), type='mat_peptide', qualifiers=...),\n",
       " SeqFeature(SimpleLocation(ExactPosition(8554), ExactPosition(10054), strand=1), type='mat_peptide', qualifiers=...),\n",
       " SeqFeature(SimpleLocation(ExactPosition(10054), ExactPosition(10972), strand=1), type='mat_peptide', qualifiers=...),\n",
       " SeqFeature(SimpleLocation(ExactPosition(10972), ExactPosition(11842), strand=1), type='mat_peptide', qualifiers=...),\n",
       " SeqFeature(SimpleLocation(ExactPosition(11842), ExactPosition(12091), strand=1), type='mat_peptide', qualifiers=...),\n",
       " SeqFeature(SimpleLocation(ExactPosition(12091), ExactPosition(12685), strand=1), type='mat_peptide', qualifiers=...),\n",
       " SeqFeature(SimpleLocation(ExactPosition(12685), ExactPosition(13024), strand=1), type='mat_peptide', qualifiers=...),\n",
       " SeqFeature(SimpleLocation(ExactPosition(13024), ExactPosition(13441), strand=1), type='mat_peptide', qualifiers=...),\n",
       " SeqFeature(SimpleLocation(ExactPosition(13441), ExactPosition(13480), strand=1), type='mat_peptide', qualifiers=...),\n",
       " SeqFeature(SimpleLocation(ExactPosition(13475), ExactPosition(13503), strand=1), type='stem_loop', qualifiers=...),\n",
       " SeqFeature(SimpleLocation(ExactPosition(13487), ExactPosition(13542), strand=1), type='stem_loop', qualifiers=...),\n",
       " SeqFeature(SimpleLocation(ExactPosition(21562), ExactPosition(25384), strand=1), type='gene', qualifiers=...),\n",
       " SeqFeature(SimpleLocation(ExactPosition(21562), ExactPosition(25384), strand=1), type='CDS', qualifiers=...),\n",
       " SeqFeature(SimpleLocation(ExactPosition(25392), ExactPosition(26220), strand=1), type='gene', qualifiers=...),\n",
       " SeqFeature(SimpleLocation(ExactPosition(25392), ExactPosition(26220), strand=1), type='CDS', qualifiers=...),\n",
       " SeqFeature(SimpleLocation(ExactPosition(26244), ExactPosition(26472), strand=1), type='gene', qualifiers=...),\n",
       " SeqFeature(SimpleLocation(ExactPosition(26244), ExactPosition(26472), strand=1), type='CDS', qualifiers=...),\n",
       " SeqFeature(SimpleLocation(ExactPosition(26522), ExactPosition(27191), strand=1), type='gene', qualifiers=...),\n",
       " SeqFeature(SimpleLocation(ExactPosition(26522), ExactPosition(27191), strand=1), type='CDS', qualifiers=...),\n",
       " SeqFeature(SimpleLocation(ExactPosition(27201), ExactPosition(27387), strand=1), type='gene', qualifiers=...),\n",
       " SeqFeature(SimpleLocation(ExactPosition(27201), ExactPosition(27387), strand=1), type='CDS', qualifiers=...),\n",
       " SeqFeature(SimpleLocation(ExactPosition(27393), ExactPosition(27759), strand=1), type='gene', qualifiers=...),\n",
       " SeqFeature(SimpleLocation(ExactPosition(27393), ExactPosition(27759), strand=1), type='CDS', qualifiers=...),\n",
       " SeqFeature(SimpleLocation(ExactPosition(27755), ExactPosition(27887), strand=1), type='gene', qualifiers=...),\n",
       " SeqFeature(SimpleLocation(ExactPosition(27755), ExactPosition(27887), strand=1), type='CDS', qualifiers=...),\n",
       " SeqFeature(SimpleLocation(ExactPosition(27893), ExactPosition(28259), strand=1), type='gene', qualifiers=...),\n",
       " SeqFeature(SimpleLocation(ExactPosition(27893), ExactPosition(28259), strand=1), type='CDS', qualifiers=...),\n",
       " SeqFeature(SimpleLocation(ExactPosition(28273), ExactPosition(29533), strand=1), type='gene', qualifiers=...),\n",
       " SeqFeature(SimpleLocation(ExactPosition(28273), ExactPosition(29533), strand=1), type='CDS', qualifiers=...),\n",
       " SeqFeature(SimpleLocation(ExactPosition(29557), ExactPosition(29674), strand=1), type='gene', qualifiers=...),\n",
       " SeqFeature(SimpleLocation(ExactPosition(29557), ExactPosition(29674), strand=1), type='CDS', qualifiers=...),\n",
       " SeqFeature(SimpleLocation(ExactPosition(29608), ExactPosition(29644), strand=1), type='stem_loop', qualifiers=...),\n",
       " SeqFeature(SimpleLocation(ExactPosition(29628), ExactPosition(29657), strand=1), type='stem_loop', qualifiers=...),\n",
       " SeqFeature(SimpleLocation(ExactPosition(29674), ExactPosition(29903), strand=1), type=\"3'UTR\"),\n",
       " SeqFeature(SimpleLocation(ExactPosition(29727), ExactPosition(29768), strand=1), type='stem_loop', qualifiers=...)]"
      ]
     },
     "execution_count": 56,
     "metadata": {},
     "output_type": "execute_result"
    }
   ],
   "source": [
    "record1[0].features"
   ]
  },
  {
   "cell_type": "markdown",
   "metadata": {},
   "source": [
    "### Description"
   ]
  },
  {
   "cell_type": "code",
   "execution_count": 14,
   "metadata": {},
   "outputs": [
    {
     "data": {
      "text/plain": [
       "'Severe acute respiratory syndrome coronavirus 2 isolate Wuhan-Hu-1, complete genome'"
      ]
     },
     "execution_count": 14,
     "metadata": {},
     "output_type": "execute_result"
    }
   ],
   "source": [
    "record1[0].description"
   ]
  },
  {
   "cell_type": "markdown",
   "metadata": {},
   "source": [
    "###"
   ]
  },
  {
   "cell_type": "markdown",
   "metadata": {},
   "source": [
    "### Length of covid sequence"
   ]
  },
  {
   "cell_type": "code",
   "execution_count": 15,
   "metadata": {},
   "outputs": [
    {
     "name": "stdout",
     "output_type": "stream",
     "text": [
      "Length of sequence is: 29903\n"
     ]
    }
   ],
   "source": [
    "print(f\"Length of sequence is: {len(covid_seq1)}\")"
   ]
  },
  {
   "cell_type": "markdown",
   "metadata": {},
   "source": [
    "### Molecular Weight of COVID-19"
   ]
  },
  {
   "cell_type": "code",
   "execution_count": 16,
   "metadata": {},
   "outputs": [
    {
     "data": {
      "text/plain": [
       "9241219.214399999"
      ]
     },
     "execution_count": 16,
     "metadata": {},
     "output_type": "execute_result"
    }
   ],
   "source": [
    "from Bio.SeqUtils import molecular_weight\n",
    "molecular_weight(covid_seq1)"
   ]
  },
  {
   "cell_type": "markdown",
   "metadata": {},
   "source": [
    "### Stability of COVID-19 through GC content"
   ]
  },
  {
   "cell_type": "code",
   "execution_count": 17,
   "metadata": {},
   "outputs": [
    {
     "data": {
      "text/plain": [
       "(37.97277865097148, 34.71107544141252, 43.23836276083467, 35.968696699107056)"
      ]
     },
     "execution_count": 17,
     "metadata": {},
     "output_type": "execute_result"
    }
   ],
   "source": [
    "from Bio.SeqUtils import GC123\n",
    "GC123(covid_seq1)"
   ]
  },
  {
   "cell_type": "markdown",
   "metadata": {},
   "source": [
    "### Count of Nucleotides"
   ]
  },
  {
   "cell_type": "code",
   "execution_count": 18,
   "metadata": {},
   "outputs": [
    {
     "name": "stdout",
     "output_type": "stream",
     "text": [
      "8954\n",
      "5492\n",
      "5863\n",
      "9594\n"
     ]
    }
   ],
   "source": [
    "print(covid_seq1.count(\"A\"))\n",
    "print(covid_seq1.count(\"C\"))\n",
    "print(covid_seq1.count(\"G\"))\n",
    "print(covid_seq1.count(\"T\"))"
   ]
  },
  {
   "cell_type": "code",
   "execution_count": 19,
   "metadata": {},
   "outputs": [
    {
     "data": {
      "text/plain": [
       "5863"
      ]
     },
     "execution_count": 19,
     "metadata": {},
     "output_type": "execute_result"
    }
   ],
   "source": [
    "covid_seq1.count(\"G\")"
   ]
  },
  {
   "cell_type": "code",
   "execution_count": 20,
   "metadata": {},
   "outputs": [
    {
     "data": {
      "text/plain": [
       "5492"
      ]
     },
     "execution_count": 20,
     "metadata": {},
     "output_type": "execute_result"
    }
   ],
   "source": [
    "covid_seq1.count(\"C\")"
   ]
  },
  {
   "cell_type": "code",
   "execution_count": 21,
   "metadata": {},
   "outputs": [
    {
     "data": {
      "text/plain": [
       "9594"
      ]
     },
     "execution_count": 21,
     "metadata": {},
     "output_type": "execute_result"
    }
   ],
   "source": [
    "covid_seq1.count(\"T\")"
   ]
  },
  {
   "cell_type": "markdown",
   "metadata": {},
   "source": [
    "### Transcription"
   ]
  },
  {
   "cell_type": "code",
   "execution_count": 22,
   "metadata": {},
   "outputs": [],
   "source": [
    "covid_mrna= covid_seq1.transcribe()"
   ]
  },
  {
   "cell_type": "code",
   "execution_count": 23,
   "metadata": {},
   "outputs": [
    {
     "data": {
      "text/plain": [
       "Seq('AUUAAAGGUUUAUACCUUCCCAGGUAACAAACCAACCAACUUUCGAUCUCUUGU...AAA')"
      ]
     },
     "execution_count": 23,
     "metadata": {},
     "output_type": "execute_result"
    }
   ],
   "source": [
    "covid_mrna"
   ]
  },
  {
   "cell_type": "markdown",
   "metadata": {},
   "source": [
    "### Translation"
   ]
  },
  {
   "cell_type": "code",
   "execution_count": 24,
   "metadata": {},
   "outputs": [
    {
     "name": "stderr",
     "output_type": "stream",
     "text": [
      "c:\\Users\\Neermita Bhattachary\\AppData\\Local\\Programs\\Python\\Python312\\Lib\\site-packages\\Bio\\Seq.py:2879: BiopythonWarning: Partial codon, len(sequence) not a multiple of three. Explicitly trim the sequence or add trailing N before translation. This may become an error in future.\n",
      "  warnings.warn(\n"
     ]
    }
   ],
   "source": [
    "covid_aa= covid_mrna.translate()"
   ]
  },
  {
   "cell_type": "code",
   "execution_count": 25,
   "metadata": {},
   "outputs": [
    {
     "data": {
      "text/plain": [
       "Seq('IKGLYLPR*QTNQLSISCRSVL*TNFKICVAVTRLHA*CTHAV*LITNYCR*QD...KKK')"
      ]
     },
     "execution_count": 25,
     "metadata": {},
     "output_type": "execute_result"
    }
   ],
   "source": [
    "covid_aa"
   ]
  },
  {
   "cell_type": "code",
   "execution_count": 26,
   "metadata": {},
   "outputs": [],
   "source": [
    "from collections import Counter\n",
    "amino_acids= Counter(covid_aa)"
   ]
  },
  {
   "cell_type": "code",
   "execution_count": 27,
   "metadata": {},
   "outputs": [
    {
     "data": {
      "text/plain": [
       "Counter({'L': 886,\n",
       "         'S': 810,\n",
       "         '*': 774,\n",
       "         'T': 679,\n",
       "         'C': 635,\n",
       "         'F': 593,\n",
       "         'R': 558,\n",
       "         'V': 548,\n",
       "         'Y': 505,\n",
       "         'N': 472,\n",
       "         'I': 436,\n",
       "         'K': 413,\n",
       "         'G': 394,\n",
       "         'A': 375,\n",
       "         'H': 332,\n",
       "         'Q': 325,\n",
       "         'P': 292,\n",
       "         'D': 290,\n",
       "         'E': 270,\n",
       "         'W': 263,\n",
       "         'M': 117})"
      ]
     },
     "execution_count": 27,
     "metadata": {},
     "output_type": "execute_result"
    }
   ],
   "source": [
    "amino_acids"
   ]
  },
  {
   "cell_type": "code",
   "execution_count": 28,
   "metadata": {},
   "outputs": [],
   "source": [
    "del amino_acids['*']"
   ]
  },
  {
   "cell_type": "code",
   "execution_count": 29,
   "metadata": {},
   "outputs": [
    {
     "data": {
      "text/plain": [
       "Text(0, 0.5, 'Frequency')"
      ]
     },
     "execution_count": 29,
     "metadata": {},
     "output_type": "execute_result"
    },
    {
     "data": {
      "image/png": "[encoded data removed]",
      "text/plain": [
       "<Figure size 640x480 with 1 Axes>"
      ]
     },
     "metadata": {},
     "output_type": "display_data"
    }
   ],
   "source": [
    "plt.bar(amino_acids.keys(), amino_acids.values(), color=['b', 'g', 'r', 'y', 'm', 'c'])\n",
    "plt.xlabel(\"Amino Acids\")\n",
    "plt.ylabel(\"Frequency\")"
   ]
  },
  {
   "cell_type": "code",
   "execution_count": 30,
   "metadata": {},
   "outputs": [
    {
     "name": "stdout",
     "output_type": "stream",
     "text": [
      "Number of amino acids in Covid 19 with * : 9193\n"
     ]
    }
   ],
   "source": [
    "print(f\"Number of amino acids in Covid 19 with * : {sum(amino_acids.values())}\")"
   ]
  },
  {
   "cell_type": "code",
   "execution_count": 31,
   "metadata": {},
   "outputs": [
    {
     "data": {
      "text/plain": [
       "Seq('IKGLYLPR*QTNQLSISCRSVL*TNFKICVAVTRLHA*CTHAV*LITNYCR*QD...KKK')"
      ]
     },
     "execution_count": 31,
     "metadata": {},
     "output_type": "execute_result"
    }
   ],
   "source": [
    "covid_aa"
   ]
  },
  {
   "cell_type": "code",
   "execution_count": 32,
   "metadata": {},
   "outputs": [],
   "source": [
    "actual_covid_aa=covid_aa.split('*')"
   ]
  },
  {
   "cell_type": "code",
   "execution_count": 33,
   "metadata": {},
   "outputs": [
    {
     "data": {
      "text/plain": [
       "[Seq('IKGLYLPR'),\n",
       " Seq('QTNQLSISCRSVL'),\n",
       " Seq('TNFKICVAVTRLHA'),\n",
       " Seq('CTHAV'),\n",
       " Seq('LITNYCR')]"
      ]
     },
     "execution_count": 33,
     "metadata": {},
     "output_type": "execute_result"
    }
   ],
   "source": [
    "actual_covid_aa[:5]"
   ]
  },
  {
   "cell_type": "code",
   "execution_count": 34,
   "metadata": {},
   "outputs": [
    {
     "data": {
      "text/plain": [
       "775"
      ]
     },
     "execution_count": 34,
     "metadata": {},
     "output_type": "execute_result"
    }
   ],
   "source": [
    "len(actual_covid_aa)"
   ]
  },
  {
   "cell_type": "code",
   "execution_count": 35,
   "metadata": {},
   "outputs": [],
   "source": [
    "proteins= actual_covid_aa.copy()"
   ]
  },
  {
   "cell_type": "markdown",
   "metadata": {},
   "source": [
    "Not all aa sequences are proteins. Sequences with more than 20 amino acids code for functional proteins. Shorter aas code for oligopeptides."
   ]
  },
  {
   "cell_type": "code",
   "execution_count": 36,
   "metadata": {},
   "outputs": [],
   "source": [
    "\n",
    "for protein in actual_covid_aa:\n",
    "    if len(protein)<20:\n",
    "        proteins.remove(protein)"
   ]
  },
  {
   "cell_type": "code",
   "execution_count": 37,
   "metadata": {},
   "outputs": [
    {
     "data": {
      "text/plain": [
       "80"
      ]
     },
     "execution_count": 37,
     "metadata": {},
     "output_type": "execute_result"
    }
   ],
   "source": [
    "len(proteins)"
   ]
  },
  {
   "cell_type": "code",
   "execution_count": 38,
   "metadata": {},
   "outputs": [],
   "source": [
    "longest_protein= sorted(proteins, key=len)"
   ]
  },
  {
   "cell_type": "code",
   "execution_count": 39,
   "metadata": {},
   "outputs": [
    {
     "data": {
      "text/plain": [
       "Seq('CTIVFKRVCGVSAARLTPCGTGTSTDVVYRAFDIYNDKVAGFAKFLKTNCCRFQ...VNN')"
      ]
     },
     "execution_count": 39,
     "metadata": {},
     "output_type": "execute_result"
    }
   ],
   "source": [
    "longest_protein[-1]"
   ]
  },
  {
   "cell_type": "code",
   "execution_count": 40,
   "metadata": {},
   "outputs": [
    {
     "data": {
      "text/plain": [
       "2701"
      ]
     },
     "execution_count": 40,
     "metadata": {},
     "output_type": "execute_result"
    }
   ],
   "source": [
    "len(longest_protein[-1])"
   ]
  },
  {
   "cell_type": "code",
   "execution_count": 87,
   "metadata": {},
   "outputs": [],
   "source": [
    "with open(\"longest_protein_seq.fasta\", \"w\") as file:\n",
    "    file.write(f\">covid protein\\n{longest_protein[-1]}\")"
   ]
  },
  {
   "cell_type": "markdown",
   "metadata": {},
   "source": [
    "### Finally, Genome Annotation!"
   ]
  },
  {
   "cell_type": "code",
   "execution_count": 41,
   "metadata": {},
   "outputs": [],
   "source": [
    "from Bio.SeqFeature import SeqFeature, FeatureLocation\n",
    "from Bio.Graphics import GenomeDiagram\n",
    "from Bio.Seq import translate\n",
    "from Bio import motifs\n",
    "from reportlab.lib import colors\n",
    "import matplotlib.pyplot as plt"
   ]
  },
  {
   "cell_type": "code",
   "execution_count": 89,
   "metadata": {},
   "outputs": [
    {
     "name": "stdout",
     "output_type": "stream",
     "text": [
      "Collecting ReportLab\n",
      "  Downloading reportlab-4.2.5-py3-none-any.whl.metadata (1.5 kB)\n",
      "Requirement already satisfied: pillow>=9.0.0 in c:\\users\\neermita bhattachary\\appdata\\local\\programs\\python\\python312\\lib\\site-packages (from ReportLab) (11.0.0)\n",
      "Collecting chardet (from ReportLab)\n",
      "  Downloading chardet-5.2.0-py3-none-any.whl.metadata (3.4 kB)\n",
      "Downloading reportlab-4.2.5-py3-none-any.whl (1.9 MB)\n",
      "   ---------------------------------------- 0.0/1.9 MB ? eta -:--:--\n",
      "   -------------------------- ------------- 1.3/1.9 MB 9.5 MB/s eta 0:00:01\n",
      "   ---------------------------------------- 1.9/1.9 MB 10.7 MB/s eta 0:00:00\n",
      "Downloading chardet-5.2.0-py3-none-any.whl (199 kB)\n",
      "Installing collected packages: chardet, ReportLab\n",
      "Successfully installed ReportLab-4.2.5 chardet-5.2.0\n",
      "Note: you may need to restart the kernel to use updated packages.\n"
     ]
    }
   ],
   "source": [
    "pip install ReportLab"
   ]
  },
  {
   "cell_type": "code",
   "execution_count": 58,
   "metadata": {},
   "outputs": [
    {
     "name": "stdout",
     "output_type": "stream",
     "text": [
      "Genome diagram saved as 'covid_genome_diagram.pdf'.\n"
     ]
    }
   ],
   "source": [
    "from Bio.Graphics import GenomeDiagram\n",
    "from reportlab.lib import colors\n",
    "\n",
    "def annotate_genes(record):\n",
    "    gd_diagram = GenomeDiagram.Diagram(\"SARS-CoV-2 Genome\")\n",
    "    gd_track = gd_diagram.new_track(1, name=\"Annotated Genes\")\n",
    "    gd_feature_set = gd_track.new_set()\n",
    "    \n",
    "    # Add features from GenBank file\n",
    "    for feature in record.features:\n",
    "        if feature.type == \"gene\":\n",
    "            color = colors.pink if \"gene\" in feature.qualifiers else colors.lightgrey\n",
    "            gd_feature_set.add_feature(feature, color=color, label=True, label_size=8)\n",
    "    \n",
    "    # Render diagram\n",
    "    gd_diagram.draw(format=\"circular\", circular=True, pagesize=(400, 400), start=0, end=len(record.seq))\n",
    "    gd_diagram.write(\"covid_genome_diagram.pdf\", \"PDF\")\n",
    "    print(\"Genome diagram saved as 'covid_genome_diagram.pdf'.\")\n",
    "\n",
    "annotate_genes(record1[0])"
   ]
  },
  {
   "cell_type": "code",
   "execution_count": 59,
   "metadata": {},
   "outputs": [
    {
     "data": {
      "text/plain": [
       "[SeqFeature(SimpleLocation(ExactPosition(0), ExactPosition(29903), strand=1), type='source', qualifiers=...),\n",
       " SeqFeature(SimpleLocation(ExactPosition(0), ExactPosition(265), strand=1), type=\"5'UTR\"),\n",
       " SeqFeature(SimpleLocation(ExactPosition(265), ExactPosition(21555), strand=1), type='gene', qualifiers=...),\n",
       " SeqFeature(CompoundLocation([SimpleLocation(ExactPosition(265), ExactPosition(13468), strand=1), SimpleLocation(ExactPosition(13467), ExactPosition(21555), strand=1)], 'join'), type='CDS', qualifiers=...),\n",
       " SeqFeature(SimpleLocation(ExactPosition(265), ExactPosition(805), strand=1), type='mat_peptide', qualifiers=...),\n",
       " SeqFeature(SimpleLocation(ExactPosition(805), ExactPosition(2719), strand=1), type='mat_peptide', qualifiers=...),\n",
       " SeqFeature(SimpleLocation(ExactPosition(2719), ExactPosition(8554), strand=1), type='mat_peptide', qualifiers=...),\n",
       " SeqFeature(SimpleLocation(ExactPosition(8554), ExactPosition(10054), strand=1), type='mat_peptide', qualifiers=...),\n",
       " SeqFeature(SimpleLocation(ExactPosition(10054), ExactPosition(10972), strand=1), type='mat_peptide', qualifiers=...),\n",
       " SeqFeature(SimpleLocation(ExactPosition(10972), ExactPosition(11842), strand=1), type='mat_peptide', qualifiers=...),\n",
       " SeqFeature(SimpleLocation(ExactPosition(11842), ExactPosition(12091), strand=1), type='mat_peptide', qualifiers=...),\n",
       " SeqFeature(SimpleLocation(ExactPosition(12091), ExactPosition(12685), strand=1), type='mat_peptide', qualifiers=...),\n",
       " SeqFeature(SimpleLocation(ExactPosition(12685), ExactPosition(13024), strand=1), type='mat_peptide', qualifiers=...),\n",
       " SeqFeature(SimpleLocation(ExactPosition(13024), ExactPosition(13441), strand=1), type='mat_peptide', qualifiers=...),\n",
       " SeqFeature(CompoundLocation([SimpleLocation(ExactPosition(13441), ExactPosition(13468), strand=1), SimpleLocation(ExactPosition(13467), ExactPosition(16236), strand=1)], 'join'), type='mat_peptide', qualifiers=...),\n",
       " SeqFeature(SimpleLocation(ExactPosition(16236), ExactPosition(18039), strand=1), type='mat_peptide', qualifiers=...),\n",
       " SeqFeature(SimpleLocation(ExactPosition(18039), ExactPosition(19620), strand=1), type='mat_peptide', qualifiers=...),\n",
       " SeqFeature(SimpleLocation(ExactPosition(19620), ExactPosition(20658), strand=1), type='mat_peptide', qualifiers=...),\n",
       " SeqFeature(SimpleLocation(ExactPosition(20658), ExactPosition(21552), strand=1), type='mat_peptide', qualifiers=...),\n",
       " SeqFeature(SimpleLocation(ExactPosition(265), ExactPosition(13483), strand=1), type='CDS', qualifiers=...),\n",
       " SeqFeature(SimpleLocation(ExactPosition(265), ExactPosition(805), strand=1), type='mat_peptide', qualifiers=...),\n",
       " SeqFeature(SimpleLocation(ExactPosition(805), ExactPosition(2719), strand=1), type='mat_peptide', qualifiers=...),\n",
       " SeqFeature(SimpleLocation(ExactPosition(2719), ExactPosition(8554), strand=1), type='mat_peptide', qualifiers=...),\n",
       " SeqFeature(SimpleLocation(ExactPosition(8554), ExactPosition(10054), strand=1), type='mat_peptide', qualifiers=...),\n",
       " SeqFeature(SimpleLocation(ExactPosition(10054), ExactPosition(10972), strand=1), type='mat_peptide', qualifiers=...),\n",
       " SeqFeature(SimpleLocation(ExactPosition(10972), ExactPosition(11842), strand=1), type='mat_peptide', qualifiers=...),\n",
       " SeqFeature(SimpleLocation(ExactPosition(11842), ExactPosition(12091), strand=1), type='mat_peptide', qualifiers=...),\n",
       " SeqFeature(SimpleLocation(ExactPosition(12091), ExactPosition(12685), strand=1), type='mat_peptide', qualifiers=...),\n",
       " SeqFeature(SimpleLocation(ExactPosition(12685), ExactPosition(13024), strand=1), type='mat_peptide', qualifiers=...),\n",
       " SeqFeature(SimpleLocation(ExactPosition(13024), ExactPosition(13441), strand=1), type='mat_peptide', qualifiers=...),\n",
       " SeqFeature(SimpleLocation(ExactPosition(13441), ExactPosition(13480), strand=1), type='mat_peptide', qualifiers=...),\n",
       " SeqFeature(SimpleLocation(ExactPosition(13475), ExactPosition(13503), strand=1), type='stem_loop', qualifiers=...),\n",
       " SeqFeature(SimpleLocation(ExactPosition(13487), ExactPosition(13542), strand=1), type='stem_loop', qualifiers=...),\n",
       " SeqFeature(SimpleLocation(ExactPosition(21562), ExactPosition(25384), strand=1), type='gene', qualifiers=...),\n",
       " SeqFeature(SimpleLocation(ExactPosition(21562), ExactPosition(25384), strand=1), type='CDS', qualifiers=...),\n",
       " SeqFeature(SimpleLocation(ExactPosition(25392), ExactPosition(26220), strand=1), type='gene', qualifiers=...),\n",
       " SeqFeature(SimpleLocation(ExactPosition(25392), ExactPosition(26220), strand=1), type='CDS', qualifiers=...),\n",
       " SeqFeature(SimpleLocation(ExactPosition(26244), ExactPosition(26472), strand=1), type='gene', qualifiers=...),\n",
       " SeqFeature(SimpleLocation(ExactPosition(26244), ExactPosition(26472), strand=1), type='CDS', qualifiers=...),\n",
       " SeqFeature(SimpleLocation(ExactPosition(26522), ExactPosition(27191), strand=1), type='gene', qualifiers=...),\n",
       " SeqFeature(SimpleLocation(ExactPosition(26522), ExactPosition(27191), strand=1), type='CDS', qualifiers=...),\n",
       " SeqFeature(SimpleLocation(ExactPosition(27201), ExactPosition(27387), strand=1), type='gene', qualifiers=...),\n",
       " SeqFeature(SimpleLocation(ExactPosition(27201), ExactPosition(27387), strand=1), type='CDS', qualifiers=...),\n",
       " SeqFeature(SimpleLocation(ExactPosition(27393), ExactPosition(27759), strand=1), type='gene', qualifiers=...),\n",
       " SeqFeature(SimpleLocation(ExactPosition(27393), ExactPosition(27759), strand=1), type='CDS', qualifiers=...),\n",
       " SeqFeature(SimpleLocation(ExactPosition(27755), ExactPosition(27887), strand=1), type='gene', qualifiers=...),\n",
       " SeqFeature(SimpleLocation(ExactPosition(27755), ExactPosition(27887), strand=1), type='CDS', qualifiers=...),\n",
       " SeqFeature(SimpleLocation(ExactPosition(27893), ExactPosition(28259), strand=1), type='gene', qualifiers=...),\n",
       " SeqFeature(SimpleLocation(ExactPosition(27893), ExactPosition(28259), strand=1), type='CDS', qualifiers=...),\n",
       " SeqFeature(SimpleLocation(ExactPosition(28273), ExactPosition(29533), strand=1), type='gene', qualifiers=...),\n",
       " SeqFeature(SimpleLocation(ExactPosition(28273), ExactPosition(29533), strand=1), type='CDS', qualifiers=...),\n",
       " SeqFeature(SimpleLocation(ExactPosition(29557), ExactPosition(29674), strand=1), type='gene', qualifiers=...),\n",
       " SeqFeature(SimpleLocation(ExactPosition(29557), ExactPosition(29674), strand=1), type='CDS', qualifiers=...),\n",
       " SeqFeature(SimpleLocation(ExactPosition(29608), ExactPosition(29644), strand=1), type='stem_loop', qualifiers=...),\n",
       " SeqFeature(SimpleLocation(ExactPosition(29628), ExactPosition(29657), strand=1), type='stem_loop', qualifiers=...),\n",
       " SeqFeature(SimpleLocation(ExactPosition(29674), ExactPosition(29903), strand=1), type=\"3'UTR\"),\n",
       " SeqFeature(SimpleLocation(ExactPosition(29727), ExactPosition(29768), strand=1), type='stem_loop', qualifiers=...)]"
      ]
     },
     "execution_count": 59,
     "metadata": {},
     "output_type": "execute_result"
    }
   ],
   "source": [
    "record1[0].features"
   ]
  },
  {
   "cell_type": "code",
   "execution_count": null,
   "metadata": {},
   "outputs": [],
   "source": []
  },
  {
   "cell_type": "code",
   "execution_count": null,
   "metadata": {},
   "outputs": [],
   "source": [
    "def annotate_genome(record, orfs):\n",
    "    gd_diagram = GenomeDiagram.Diagram(\"SARS-CoV-2 Genome with ORFs and Functional Regions\")\n",
    "    gd_track = gd_diagram.new_track(1, name=\"Annotations\")\n",
    "    gd_feature_set = gd_track.new_set()\n",
    "    for feature in record.features:\n",
    "        if feature.type == \"gene\":\n",
    "            color = colors.blue\n",
    "            gd_feature_set.add_feature(feature, color=color, label=True, label_size=8)\n",
    "    \n",
    "    # Add ORF annotations\n",
    "    for orf in orfs:\n",
    "        feature = SeqFeature(orf, type=\"ORF\")\n",
    "        gd_feature_set.add_feature(feature, color=colors.orange, label=False)\n",
    "    \n",
    "    # Render diagram\n",
    "    gd_diagram.draw(format=\"circular\", circular=True, pagesize=(400, 400), start=0, end=len(record.seq))\n",
    "    gd_diagram.write(\"covid_genome_with_orfs.pdf\", \"PDF\")\n",
    "    print(\"Genome diagram with ORFs and functional regions saved as 'covid_genome_with_orfs.pdf'.\")\n"
   ]
  }
 ],
 "metadata": {
  "kernelspec": {
   "display_name": "Python 3",
   "language": "python",
   "name": "python3"
  },
  "language_info": {
   "codemirror_mode": {
    "name": "ipython",
    "version": 3
   },
   "file_extension": ".py",
   "mimetype": "text/x-python",
   "name": "python",
   "nbconvert_exporter": "python",
   "pygments_lexer": "ipython3",
   "version": "3.12.4"
  }
 },
 "nbformat": 4,
 "nbformat_minor": 2
}
