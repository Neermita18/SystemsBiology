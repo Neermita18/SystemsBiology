{
  "nbformat": 4,
  "nbformat_minor": 0,
  "metadata": {
    "colab": {
      "provenance": [],
      "authorship_tag": "ABX9TyM3fR0/Vn85dCy020Dr5oPX",
      "include_colab_link": true
    },
    "kernelspec": {
      "name": "python3",
      "display_name": "Python 3"
    },
    "language_info": {
      "name": "python"
    }
  },
  "cells": [
    {
      "cell_type": "markdown",
      "metadata": {
        "id": "view-in-github",
        "colab_type": "text"
      },
      "source": [
        "<a href=\"https://colab.research.google.com/github/Neermita18/SystemsBiology/blob/main/SolubilityWithGCNs.ipynb\" target=\"_parent\"><img src=\"https://colab.research.google.com/assets/colab-badge.svg\" alt=\"Open In Colab\"/></a>"
      ]
    },
    {
      "cell_type": "code",
      "source": [
        "pip install deepchem"
      ],
      "metadata": {
        "colab": {
          "base_uri": "https://localhost:8080/"
        },
        "id": "S1P5ODWnvpVQ",
        "outputId": "5ff78405-e412-4446-8323-bcd39840b54a"
      },
      "execution_count": 115,
      "outputs": [
        {
          "output_type": "stream",
          "name": "stdout",
          "text": [
            "Requirement already satisfied: deepchem in /usr/local/lib/python3.10/dist-packages (2.8.0)\n",
            "Requirement already satisfied: joblib in /usr/local/lib/python3.10/dist-packages (from deepchem) (1.4.2)\n",
            "Requirement already satisfied: numpy>=1.21 in /usr/local/lib/python3.10/dist-packages (from deepchem) (1.26.4)\n",
            "Requirement already satisfied: pandas in /usr/local/lib/python3.10/dist-packages (from deepchem) (2.2.2)\n",
            "Requirement already satisfied: scikit-learn in /usr/local/lib/python3.10/dist-packages (from deepchem) (1.6.0)\n",
            "Requirement already satisfied: sympy in /usr/local/lib/python3.10/dist-packages (from deepchem) (1.13.1)\n",
            "Requirement already satisfied: scipy>=1.10.1 in /usr/local/lib/python3.10/dist-packages (from deepchem) (1.13.1)\n",
            "Requirement already satisfied: rdkit in /usr/local/lib/python3.10/dist-packages (from deepchem) (2024.3.6)\n",
            "Requirement already satisfied: python-dateutil>=2.8.2 in /usr/local/lib/python3.10/dist-packages (from pandas->deepchem) (2.8.2)\n",
            "Requirement already satisfied: pytz>=2020.1 in /usr/local/lib/python3.10/dist-packages (from pandas->deepchem) (2024.2)\n",
            "Requirement already satisfied: tzdata>=2022.7 in /usr/local/lib/python3.10/dist-packages (from pandas->deepchem) (2024.2)\n",
            "Requirement already satisfied: Pillow in /usr/local/lib/python3.10/dist-packages (from rdkit->deepchem) (11.0.0)\n",
            "Requirement already satisfied: threadpoolctl>=3.1.0 in /usr/local/lib/python3.10/dist-packages (from scikit-learn->deepchem) (3.5.0)\n",
            "Requirement already satisfied: mpmath<1.4,>=1.1.0 in /usr/local/lib/python3.10/dist-packages (from sympy->deepchem) (1.3.0)\n",
            "Requirement already satisfied: six>=1.5 in /usr/local/lib/python3.10/dist-packages (from python-dateutil>=2.8.2->pandas->deepchem) (1.17.0)\n"
          ]
        }
      ]
    },
    {
      "cell_type": "code",
      "execution_count": 116,
      "metadata": {
        "colab": {
          "base_uri": "https://localhost:8080/"
        },
        "id": "PLw5-lS2avLC",
        "outputId": "3f9928a5-5bb3-474b-8481-e5bd6f1d80bb"
      },
      "outputs": [
        {
          "output_type": "stream",
          "name": "stdout",
          "text": [
            "Requirement already satisfied: torch in /usr/local/lib/python3.10/dist-packages (2.5.1+cu121)\n",
            "Requirement already satisfied: torchvision in /usr/local/lib/python3.10/dist-packages (0.20.1+cu121)\n",
            "Requirement already satisfied: torch-geometric in /usr/local/lib/python3.10/dist-packages (2.6.1)\n",
            "Requirement already satisfied: rdkit in /usr/local/lib/python3.10/dist-packages (2024.3.6)\n",
            "Requirement already satisfied: filelock in /usr/local/lib/python3.10/dist-packages (from torch) (3.16.1)\n",
            "Requirement already satisfied: typing-extensions>=4.8.0 in /usr/local/lib/python3.10/dist-packages (from torch) (4.12.2)\n",
            "Requirement already satisfied: networkx in /usr/local/lib/python3.10/dist-packages (from torch) (3.4.2)\n",
            "Requirement already satisfied: jinja2 in /usr/local/lib/python3.10/dist-packages (from torch) (3.1.4)\n",
            "Requirement already satisfied: fsspec in /usr/local/lib/python3.10/dist-packages (from torch) (2024.10.0)\n",
            "Requirement already satisfied: sympy==1.13.1 in /usr/local/lib/python3.10/dist-packages (from torch) (1.13.1)\n",
            "Requirement already satisfied: mpmath<1.4,>=1.1.0 in /usr/local/lib/python3.10/dist-packages (from sympy==1.13.1->torch) (1.3.0)\n",
            "Requirement already satisfied: numpy in /usr/local/lib/python3.10/dist-packages (from torchvision) (1.26.4)\n",
            "Requirement already satisfied: pillow!=8.3.*,>=5.3.0 in /usr/local/lib/python3.10/dist-packages (from torchvision) (11.0.0)\n",
            "Requirement already satisfied: aiohttp in /usr/local/lib/python3.10/dist-packages (from torch-geometric) (3.11.10)\n",
            "Requirement already satisfied: psutil>=5.8.0 in /usr/local/lib/python3.10/dist-packages (from torch-geometric) (5.9.5)\n",
            "Requirement already satisfied: pyparsing in /usr/local/lib/python3.10/dist-packages (from torch-geometric) (3.2.0)\n",
            "Requirement already satisfied: requests in /usr/local/lib/python3.10/dist-packages (from torch-geometric) (2.32.3)\n",
            "Requirement already satisfied: tqdm in /usr/local/lib/python3.10/dist-packages (from torch-geometric) (4.67.1)\n",
            "Requirement already satisfied: aiohappyeyeballs>=2.3.0 in /usr/local/lib/python3.10/dist-packages (from aiohttp->torch-geometric) (2.4.4)\n",
            "Requirement already satisfied: aiosignal>=1.1.2 in /usr/local/lib/python3.10/dist-packages (from aiohttp->torch-geometric) (1.3.2)\n",
            "Requirement already satisfied: async-timeout<6.0,>=4.0 in /usr/local/lib/python3.10/dist-packages (from aiohttp->torch-geometric) (4.0.3)\n",
            "Requirement already satisfied: attrs>=17.3.0 in /usr/local/lib/python3.10/dist-packages (from aiohttp->torch-geometric) (24.3.0)\n",
            "Requirement already satisfied: frozenlist>=1.1.1 in /usr/local/lib/python3.10/dist-packages (from aiohttp->torch-geometric) (1.5.0)\n",
            "Requirement already satisfied: multidict<7.0,>=4.5 in /usr/local/lib/python3.10/dist-packages (from aiohttp->torch-geometric) (6.1.0)\n",
            "Requirement already satisfied: propcache>=0.2.0 in /usr/local/lib/python3.10/dist-packages (from aiohttp->torch-geometric) (0.2.1)\n",
            "Requirement already satisfied: yarl<2.0,>=1.17.0 in /usr/local/lib/python3.10/dist-packages (from aiohttp->torch-geometric) (1.18.3)\n",
            "Requirement already satisfied: MarkupSafe>=2.0 in /usr/local/lib/python3.10/dist-packages (from jinja2->torch) (3.0.2)\n",
            "Requirement already satisfied: charset-normalizer<4,>=2 in /usr/local/lib/python3.10/dist-packages (from requests->torch-geometric) (3.4.0)\n",
            "Requirement already satisfied: idna<4,>=2.5 in /usr/local/lib/python3.10/dist-packages (from requests->torch-geometric) (3.10)\n",
            "Requirement already satisfied: urllib3<3,>=1.21.1 in /usr/local/lib/python3.10/dist-packages (from requests->torch-geometric) (2.2.3)\n",
            "Requirement already satisfied: certifi>=2017.4.17 in /usr/local/lib/python3.10/dist-packages (from requests->torch-geometric) (2024.12.14)\n"
          ]
        }
      ],
      "source": [
        "pip install torch torchvision torch-geometric rdkit"
      ]
    },
    {
      "cell_type": "code",
      "source": [
        "from torch_geometric.data import DataLoader\n",
        "from torch_geometric.datasets import MoleculeNet\n",
        "from torch_geometric.nn import GCNConv, global_mean_pool\n",
        "from rdkit import Chem\n",
        "from rdkit.Chem import AllChem\n",
        "import torch\n",
        "import torch.nn as nn\n",
        "import torch.optim as optim\n",
        "from rdkit.Chem import AllChem, Draw\n",
        "import deepchem as dc\n",
        "import pandas as pd\n",
        "import numpy as np\n",
        "dataset = MoleculeNet(root='data/Freesolv', name='FreeSolv')"
      ],
      "metadata": {
        "id": "kPHC1vTMayyz"
      },
      "execution_count": 117,
      "outputs": []
    },
    {
      "cell_type": "markdown",
      "source": [
        "### Analysing the Dataset"
      ],
      "metadata": {
        "id": "hVuYwvhPPryL"
      }
    },
    {
      "cell_type": "code",
      "source": [
        "dataset.data"
      ],
      "metadata": {
        "colab": {
          "base_uri": "https://localhost:8080/"
        },
        "id": "gSmzYbpCbEMb",
        "outputId": "d1abaaa0-b47e-4ba2-fbb8-2418fc8d5c43"
      },
      "execution_count": 118,
      "outputs": [
        {
          "output_type": "stream",
          "name": "stderr",
          "text": [
            "/usr/local/lib/python3.10/dist-packages/torch_geometric/data/in_memory_dataset.py:300: UserWarning: It is not recommended to directly access the internal storage format `data` of an 'InMemoryDataset'. If you are absolutely certain what you are doing, access the internal storage via `InMemoryDataset._data` instead to suppress this warning. Alternatively, you can access stacked individual attributes of every graph via `dataset.{attr_name}`.\n",
            "  warnings.warn(msg)\n"
          ]
        },
        {
          "output_type": "execute_result",
          "data": {
            "text/plain": [
              "Data(x=[5600, 9], edge_index=[2, 10770], edge_attr=[10770, 3], y=[642, 1], smiles=[642])"
            ]
          },
          "metadata": {},
          "execution_count": 118
        }
      ]
    },
    {
      "cell_type": "code",
      "source": [
        "dataset.data.x"
      ],
      "metadata": {
        "colab": {
          "base_uri": "https://localhost:8080/"
        },
        "id": "Xpre23oxTThG",
        "outputId": "25e506ab-4775-4361-afc9-b62bf6fec319"
      },
      "execution_count": 119,
      "outputs": [
        {
          "output_type": "execute_result",
          "data": {
            "text/plain": [
              "tensor([[6, 0, 4,  ..., 4, 0, 0],\n",
              "        [7, 0, 3,  ..., 3, 0, 0],\n",
              "        [6, 0, 4,  ..., 4, 0, 0],\n",
              "        ...,\n",
              "        [6, 0, 4,  ..., 4, 0, 1],\n",
              "        [6, 0, 4,  ..., 4, 0, 1],\n",
              "        [8, 0, 2,  ..., 4, 0, 1]])"
            ]
          },
          "metadata": {},
          "execution_count": 119
        }
      ]
    },
    {
      "cell_type": "code",
      "source": [
        "dataset.data.edge_index.shape"
      ],
      "metadata": {
        "colab": {
          "base_uri": "https://localhost:8080/"
        },
        "id": "LzRUVUzvTFrH",
        "outputId": "27742777-88d5-42b5-fec7-e053fef0eced"
      },
      "execution_count": 120,
      "outputs": [
        {
          "output_type": "execute_result",
          "data": {
            "text/plain": [
              "torch.Size([2, 10770])"
            ]
          },
          "metadata": {},
          "execution_count": 120
        }
      ]
    },
    {
      "cell_type": "code",
      "source": [
        "dataset.data.edge_attr.shape"
      ],
      "metadata": {
        "colab": {
          "base_uri": "https://localhost:8080/"
        },
        "id": "YwaVvWT0TN4u",
        "outputId": "a0eb9192-6e96-4a3b-f32a-17aa589e1609"
      },
      "execution_count": 121,
      "outputs": [
        {
          "output_type": "execute_result",
          "data": {
            "text/plain": [
              "torch.Size([10770, 3])"
            ]
          },
          "metadata": {},
          "execution_count": 121
        }
      ]
    },
    {
      "cell_type": "code",
      "source": [
        "x=dataset[0].smiles"
      ],
      "metadata": {
        "id": "_4o8t3X5bI_V"
      },
      "execution_count": 122,
      "outputs": []
    },
    {
      "cell_type": "code",
      "source": [
        "\n",
        "mols= Chem.MolFromSmiles(x)"
      ],
      "metadata": {
        "id": "BRVbvaEAe99u"
      },
      "execution_count": 123,
      "outputs": []
    },
    {
      "cell_type": "code",
      "source": [
        "mols"
      ],
      "metadata": {
        "colab": {
          "base_uri": "https://localhost:8080/",
          "height": 167
        },
        "id": "LUnWCqfvfKk0",
        "outputId": "d04fcdea-4390-4b2f-ae88-bef520329e8c"
      },
      "execution_count": 124,
      "outputs": [
        {
          "output_type": "execute_result",
          "data": {
            "text/plain": [
              "<rdkit.Chem.rdchem.Mol at 0x7b3a42ae0cf0>"
            ],
            "image/png": "[encoded data removed]"
          },
          "metadata": {},
          "execution_count": 124
        }
      ]
    },
    {
      "cell_type": "code",
      "source": [
        "feat=dc.feat.RDKitDescriptors()"
      ],
      "metadata": {
        "id": "V0iYlR7BfLhH"
      },
      "execution_count": 125,
      "outputs": []
    },
    {
      "cell_type": "code",
      "source": [
        "data = pd.read_csv(\"/content/SAMPL_df_revised.csv\")"
      ],
      "metadata": {
        "id": "fy2ePerfgRhd"
      },
      "execution_count": 126,
      "outputs": []
    },
    {
      "cell_type": "code",
      "source": [
        "data"
      ],
      "metadata": {
        "colab": {
          "base_uri": "https://localhost:8080/",
          "height": 423
        },
        "id": "E7DuDgJiMeYP",
        "outputId": "0e8f84f8-98dc-47d7-f125-8e9a175ff173"
      },
      "execution_count": 127,
      "outputs": [
        {
          "output_type": "execute_result",
          "data": {
            "text/plain": [
              "                                iupac                  smiles   expt    calc\n",
              "0    4-methoxy-N,N-dimethyl-benzamide  CN(C)C(=O)c1ccc(cc1)OC -11.01  -9.625\n",
              "1            methanesulfonyl chloride            CS(=O)(=O)Cl  -4.87  -6.219\n",
              "2                   3-methylbut-1-ene                CC(C)C=C   1.83   2.452\n",
              "3                     2-ethylpyrazine              CCc1cnccn1  -5.45  -5.809\n",
              "4                         heptan-1-ol                CCCCCCCO  -4.21  -2.917\n",
              "..                                ...                     ...    ...     ...\n",
              "637                  methyl octanoate          CCCCCCCC(=O)OC  -2.04  -3.035\n",
              "638                       pyrrolidine                 C1CCNC1  -5.48  -4.278\n",
              "639             4-hydroxybenzaldehyde          c1cc(ccc1C=O)O  -8.83 -10.050\n",
              "640                   1-chloroheptane               CCCCCCCCl   0.29   1.467\n",
              "641                       1,4-dioxane                C1COCCO1  -5.06  -4.269\n",
              "\n",
              "[642 rows x 4 columns]"
            ],
            "text/html": [
              "\n",
              "  <div id=\"df-b063dcb9-2617-493b-bd44-388a1fddfa52\" class=\"colab-df-container\">\n",
              "    <div>\n",
              "<style scoped>\n",
              "    .dataframe tbody tr th:only-of-type {\n",
              "        vertical-align: middle;\n",
              "    }\n",
              "\n",
              "    .dataframe tbody tr th {\n",
              "        vertical-align: top;\n",
              "    }\n",
              "\n",
              "    .dataframe thead th {\n",
              "        text-align: right;\n",
              "    }\n",
              "</style>\n",
              "<table border=\"1\" class=\"dataframe\">\n",
              "  <thead>\n",
              "    <tr style=\"text-align: right;\">\n",
              "      <th></th>\n",
              "      <th>iupac</th>\n",
              "      <th>smiles</th>\n",
              "      <th>expt</th>\n",
              "      <th>calc</th>\n",
              "    </tr>\n",
              "  </thead>\n",
              "  <tbody>\n",
              "    <tr>\n",
              "      <th>0</th>\n",
              "      <td>4-methoxy-N,N-dimethyl-benzamide</td>\n",
              "      <td>CN(C)C(=O)c1ccc(cc1)OC</td>\n",
              "      <td>-11.01</td>\n",
              "      <td>-9.625</td>\n",
              "    </tr>\n",
              "    <tr>\n",
              "      <th>1</th>\n",
              "      <td>methanesulfonyl chloride</td>\n",
              "      <td>CS(=O)(=O)Cl</td>\n",
              "      <td>-4.87</td>\n",
              "      <td>-6.219</td>\n",
              "    </tr>\n",
              "    <tr>\n",
              "      <th>2</th>\n",
              "      <td>3-methylbut-1-ene</td>\n",
              "      <td>CC(C)C=C</td>\n",
              "      <td>1.83</td>\n",
              "      <td>2.452</td>\n",
              "    </tr>\n",
              "    <tr>\n",
              "      <th>3</th>\n",
              "      <td>2-ethylpyrazine</td>\n",
              "      <td>CCc1cnccn1</td>\n",
              "      <td>-5.45</td>\n",
              "      <td>-5.809</td>\n",
              "    </tr>\n",
              "    <tr>\n",
              "      <th>4</th>\n",
              "      <td>heptan-1-ol</td>\n",
              "      <td>CCCCCCCO</td>\n",
              "      <td>-4.21</td>\n",
              "      <td>-2.917</td>\n",
              "    </tr>\n",
              "    <tr>\n",
              "      <th>...</th>\n",
              "      <td>...</td>\n",
              "      <td>...</td>\n",
              "      <td>...</td>\n",
              "      <td>...</td>\n",
              "    </tr>\n",
              "    <tr>\n",
              "      <th>637</th>\n",
              "      <td>methyl octanoate</td>\n",
              "      <td>CCCCCCCC(=O)OC</td>\n",
              "      <td>-2.04</td>\n",
              "      <td>-3.035</td>\n",
              "    </tr>\n",
              "    <tr>\n",
              "      <th>638</th>\n",
              "      <td>pyrrolidine</td>\n",
              "      <td>C1CCNC1</td>\n",
              "      <td>-5.48</td>\n",
              "      <td>-4.278</td>\n",
              "    </tr>\n",
              "    <tr>\n",
              "      <th>639</th>\n",
              "      <td>4-hydroxybenzaldehyde</td>\n",
              "      <td>c1cc(ccc1C=O)O</td>\n",
              "      <td>-8.83</td>\n",
              "      <td>-10.050</td>\n",
              "    </tr>\n",
              "    <tr>\n",
              "      <th>640</th>\n",
              "      <td>1-chloroheptane</td>\n",
              "      <td>CCCCCCCCl</td>\n",
              "      <td>0.29</td>\n",
              "      <td>1.467</td>\n",
              "    </tr>\n",
              "    <tr>\n",
              "      <th>641</th>\n",
              "      <td>1,4-dioxane</td>\n",
              "      <td>C1COCCO1</td>\n",
              "      <td>-5.06</td>\n",
              "      <td>-4.269</td>\n",
              "    </tr>\n",
              "  </tbody>\n",
              "</table>\n",
              "<p>642 rows × 4 columns</p>\n",
              "</div>\n",
              "    <div class=\"colab-df-buttons\">\n",
              "\n",
              "  <div class=\"colab-df-container\">\n",
              "    <button class=\"colab-df-convert\" onclick=\"convertToInteractive('df-b063dcb9-2617-493b-bd44-388a1fddfa52')\"\n",
              "            title=\"Convert this dataframe to an interactive table.\"\n",
              "            style=\"display:none;\">\n",
              "\n",
              "  <svg xmlns=\"http://www.w3.org/2000/svg\" height=\"24px\" viewBox=\"0 -960 960 960\">\n",
              "    <path d=\"M120-120v-720h720v720H120Zm60-500h600v-160H180v160Zm220 220h160v-160H400v160Zm0 220h160v-160H400v160ZM180-400h160v-160H180v160Zm440 0h160v-160H620v160ZM180-180h160v-160H180v160Zm440 0h160v-160H620v160Z\"/>\n",
              "  </svg>\n",
              "    </button>\n",
              "\n",
              "  <style>\n",
              "    .colab-df-container {\n",
              "      display:flex;\n",
              "      gap: 12px;\n",
              "    }\n",
              "\n",
              "    .colab-df-convert {\n",
              "      background-color: #E8F0FE;\n",
              "      border: none;\n",
              "      border-radius: 50%;\n",
              "      cursor: pointer;\n",
              "      display: none;\n",
              "      fill: #1967D2;\n",
              "      height: 32px;\n",
              "      padding: 0 0 0 0;\n",
              "      width: 32px;\n",
              "    }\n",
              "\n",
              "    .colab-df-convert:hover {\n",
              "      background-color: #E2EBFA;\n",
              "      box-shadow: 0px 1px 2px rgba(60, 64, 67, 0.3), 0px 1px 3px 1px rgba(60, 64, 67, 0.15);\n",
              "      fill: #174EA6;\n",
              "    }\n",
              "\n",
              "    .colab-df-buttons div {\n",
              "      margin-bottom: 4px;\n",
              "    }\n",
              "\n",
              "    [theme=dark] .colab-df-convert {\n",
              "      background-color: #3B4455;\n",
              "      fill: #D2E3FC;\n",
              "    }\n",
              "\n",
              "    [theme=dark] .colab-df-convert:hover {\n",
              "      background-color: #434B5C;\n",
              "      box-shadow: 0px 1px 3px 1px rgba(0, 0, 0, 0.15);\n",
              "      filter: drop-shadow(0px 1px 2px rgba(0, 0, 0, 0.3));\n",
              "      fill: #FFFFFF;\n",
              "    }\n",
              "  </style>\n",
              "\n",
              "    <script>\n",
              "      const buttonEl =\n",
              "        document.querySelector('#df-b063dcb9-2617-493b-bd44-388a1fddfa52 button.colab-df-convert');\n",
              "      buttonEl.style.display =\n",
              "        google.colab.kernel.accessAllowed ? 'block' : 'none';\n",
              "\n",
              "      async function convertToInteractive(key) {\n",
              "        const element = document.querySelector('#df-b063dcb9-2617-493b-bd44-388a1fddfa52');\n",
              "        const dataTable =\n",
              "          await google.colab.kernel.invokeFunction('convertToInteractive',\n",
              "                                                    [key], {});\n",
              "        if (!dataTable) return;\n",
              "\n",
              "        const docLinkHtml = 'Like what you see? Visit the ' +\n",
              "          '<a target=\"_blank\" href=https://colab.research.google.com/notebooks/data_table.ipynb>data table notebook</a>'\n",
              "          + ' to learn more about interactive tables.';\n",
              "        element.innerHTML = '';\n",
              "        dataTable['output_type'] = 'display_data';\n",
              "        await google.colab.output.renderOutput(dataTable, element);\n",
              "        const docLink = document.createElement('div');\n",
              "        docLink.innerHTML = docLinkHtml;\n",
              "        element.appendChild(docLink);\n",
              "      }\n",
              "    </script>\n",
              "  </div>\n",
              "\n",
              "\n",
              "<div id=\"df-a25da070-13c0-4acb-8534-bbf476aeaa6b\">\n",
              "  <button class=\"colab-df-quickchart\" onclick=\"quickchart('df-a25da070-13c0-4acb-8534-bbf476aeaa6b')\"\n",
              "            title=\"Suggest charts\"\n",
              "            style=\"display:none;\">\n",
              "\n",
              "<svg xmlns=\"http://www.w3.org/2000/svg\" height=\"24px\"viewBox=\"0 0 24 24\"\n",
              "     width=\"24px\">\n",
              "    <g>\n",
              "        <path d=\"M19 3H5c-1.1 0-2 .9-2 2v14c0 1.1.9 2 2 2h14c1.1 0 2-.9 2-2V5c0-1.1-.9-2-2-2zM9 17H7v-7h2v7zm4 0h-2V7h2v10zm4 0h-2v-4h2v4z\"/>\n",
              "    </g>\n",
              "</svg>\n",
              "  </button>\n",
              "\n",
              "<style>\n",
              "  .colab-df-quickchart {\n",
              "      --bg-color: #E8F0FE;\n",
              "      --fill-color: #1967D2;\n",
              "      --hover-bg-color: #E2EBFA;\n",
              "      --hover-fill-color: #174EA6;\n",
              "      --disabled-fill-color: #AAA;\n",
              "      --disabled-bg-color: #DDD;\n",
              "  }\n",
              "\n",
              "  [theme=dark] .colab-df-quickchart {\n",
              "      --bg-color: #3B4455;\n",
              "      --fill-color: #D2E3FC;\n",
              "      --hover-bg-color: #434B5C;\n",
              "      --hover-fill-color: #FFFFFF;\n",
              "      --disabled-bg-color: #3B4455;\n",
              "      --disabled-fill-color: #666;\n",
              "  }\n",
              "\n",
              "  .colab-df-quickchart {\n",
              "    background-color: var(--bg-color);\n",
              "    border: none;\n",
              "    border-radius: 50%;\n",
              "    cursor: pointer;\n",
              "    display: none;\n",
              "    fill: var(--fill-color);\n",
              "    height: 32px;\n",
              "    padding: 0;\n",
              "    width: 32px;\n",
              "  }\n",
              "\n",
              "  .colab-df-quickchart:hover {\n",
              "    background-color: var(--hover-bg-color);\n",
              "    box-shadow: 0 1px 2px rgba(60, 64, 67, 0.3), 0 1px 3px 1px rgba(60, 64, 67, 0.15);\n",
              "    fill: var(--button-hover-fill-color);\n",
              "  }\n",
              "\n",
              "  .colab-df-quickchart-complete:disabled,\n",
              "  .colab-df-quickchart-complete:disabled:hover {\n",
              "    background-color: var(--disabled-bg-color);\n",
              "    fill: var(--disabled-fill-color);\n",
              "    box-shadow: none;\n",
              "  }\n",
              "\n",
              "  .colab-df-spinner {\n",
              "    border: 2px solid var(--fill-color);\n",
              "    border-color: transparent;\n",
              "    border-bottom-color: var(--fill-color);\n",
              "    animation:\n",
              "      spin 1s steps(1) infinite;\n",
              "  }\n",
              "\n",
              "  @keyframes spin {\n",
              "    0% {\n",
              "      border-color: transparent;\n",
              "      border-bottom-color: var(--fill-color);\n",
              "      border-left-color: var(--fill-color);\n",
              "    }\n",
              "    20% {\n",
              "      border-color: transparent;\n",
              "      border-left-color: var(--fill-color);\n",
              "      border-top-color: var(--fill-color);\n",
              "    }\n",
              "    30% {\n",
              "      border-color: transparent;\n",
              "      border-left-color: var(--fill-color);\n",
              "      border-top-color: var(--fill-color);\n",
              "      border-right-color: var(--fill-color);\n",
              "    }\n",
              "    40% {\n",
              "      border-color: transparent;\n",
              "      border-right-color: var(--fill-color);\n",
              "      border-top-color: var(--fill-color);\n",
              "    }\n",
              "    60% {\n",
              "      border-color: transparent;\n",
              "      border-right-color: var(--fill-color);\n",
              "    }\n",
              "    80% {\n",
              "      border-color: transparent;\n",
              "      border-right-color: var(--fill-color);\n",
              "      border-bottom-color: var(--fill-color);\n",
              "    }\n",
              "    90% {\n",
              "      border-color: transparent;\n",
              "      border-bottom-color: var(--fill-color);\n",
              "    }\n",
              "  }\n",
              "</style>\n",
              "\n",
              "  <script>\n",
              "    async function quickchart(key) {\n",
              "      const quickchartButtonEl =\n",
              "        document.querySelector('#' + key + ' button');\n",
              "      quickchartButtonEl.disabled = true;  // To prevent multiple clicks.\n",
              "      quickchartButtonEl.classList.add('colab-df-spinner');\n",
              "      try {\n",
              "        const charts = await google.colab.kernel.invokeFunction(\n",
              "            'suggestCharts', [key], {});\n",
              "      } catch (error) {\n",
              "        console.error('Error during call to suggestCharts:', error);\n",
              "      }\n",
              "      quickchartButtonEl.classList.remove('colab-df-spinner');\n",
              "      quickchartButtonEl.classList.add('colab-df-quickchart-complete');\n",
              "    }\n",
              "    (() => {\n",
              "      let quickchartButtonEl =\n",
              "        document.querySelector('#df-a25da070-13c0-4acb-8534-bbf476aeaa6b button');\n",
              "      quickchartButtonEl.style.display =\n",
              "        google.colab.kernel.accessAllowed ? 'block' : 'none';\n",
              "    })();\n",
              "  </script>\n",
              "</div>\n",
              "\n",
              "  <div id=\"id_8e65a169-0f8c-4eae-9c3e-82f27c388969\">\n",
              "    <style>\n",
              "      .colab-df-generate {\n",
              "        background-color: #E8F0FE;\n",
              "        border: none;\n",
              "        border-radius: 50%;\n",
              "        cursor: pointer;\n",
              "        display: none;\n",
              "        fill: #1967D2;\n",
              "        height: 32px;\n",
              "        padding: 0 0 0 0;\n",
              "        width: 32px;\n",
              "      }\n",
              "\n",
              "      .colab-df-generate:hover {\n",
              "        background-color: #E2EBFA;\n",
              "        box-shadow: 0px 1px 2px rgba(60, 64, 67, 0.3), 0px 1px 3px 1px rgba(60, 64, 67, 0.15);\n",
              "        fill: #174EA6;\n",
              "      }\n",
              "\n",
              "      [theme=dark] .colab-df-generate {\n",
              "        background-color: #3B4455;\n",
              "        fill: #D2E3FC;\n",
              "      }\n",
              "\n",
              "      [theme=dark] .colab-df-generate:hover {\n",
              "        background-color: #434B5C;\n",
              "        box-shadow: 0px 1px 3px 1px rgba(0, 0, 0, 0.15);\n",
              "        filter: drop-shadow(0px 1px 2px rgba(0, 0, 0, 0.3));\n",
              "        fill: #FFFFFF;\n",
              "      }\n",
              "    </style>\n",
              "    <button class=\"colab-df-generate\" onclick=\"generateWithVariable('data')\"\n",
              "            title=\"Generate code using this dataframe.\"\n",
              "            style=\"display:none;\">\n",
              "\n",
              "  <svg xmlns=\"http://www.w3.org/2000/svg\" height=\"24px\"viewBox=\"0 0 24 24\"\n",
              "       width=\"24px\">\n",
              "    <path d=\"M7,19H8.4L18.45,9,17,7.55,7,17.6ZM5,21V16.75L18.45,3.32a2,2,0,0,1,2.83,0l1.4,1.43a1.91,1.91,0,0,1,.58,1.4,1.91,1.91,0,0,1-.58,1.4L9.25,21ZM18.45,9,17,7.55Zm-12,3A5.31,5.31,0,0,0,4.9,8.1,5.31,5.31,0,0,0,1,6.5,5.31,5.31,0,0,0,4.9,4.9,5.31,5.31,0,0,0,6.5,1,5.31,5.31,0,0,0,8.1,4.9,5.31,5.31,0,0,0,12,6.5,5.46,5.46,0,0,0,6.5,12Z\"/>\n",
              "  </svg>\n",
              "    </button>\n",
              "    <script>\n",
              "      (() => {\n",
              "      const buttonEl =\n",
              "        document.querySelector('#id_8e65a169-0f8c-4eae-9c3e-82f27c388969 button.colab-df-generate');\n",
              "      buttonEl.style.display =\n",
              "        google.colab.kernel.accessAllowed ? 'block' : 'none';\n",
              "\n",
              "      buttonEl.onclick = () => {\n",
              "        google.colab.notebook.generateWithVariable('data');\n",
              "      }\n",
              "      })();\n",
              "    </script>\n",
              "  </div>\n",
              "\n",
              "    </div>\n",
              "  </div>\n"
            ],
            "application/vnd.google.colaboratory.intrinsic+json": {
              "type": "dataframe",
              "variable_name": "data",
              "summary": "{\n  \"name\": \"data\",\n  \"rows\": 642,\n  \"fields\": [\n    {\n      \"column\": \"iupac\",\n      \"properties\": {\n        \"dtype\": \"string\",\n        \"num_unique_values\": 642,\n        \"samples\": [\n          \"1-bromo-2-methyl-propane\",\n          \"1,2,4-trichlorodibenzo-p-dioxin\",\n          \"1-amino-9,10-anthracenedione\"\n        ],\n        \"semantic_type\": \"\",\n        \"description\": \"\"\n      }\n    },\n    {\n      \"column\": \"smiles\",\n      \"properties\": {\n        \"dtype\": \"string\",\n        \"num_unique_values\": 642,\n        \"samples\": [\n          \"CC(C)CBr\",\n          \"c1ccc2c(c1)Oc3c(cc(c(c3O2)Cl)Cl)Cl\",\n          \"c1ccc2c(c1)C(=O)c3cccc(c3C2=O)N\"\n        ],\n        \"semantic_type\": \"\",\n        \"description\": \"\"\n      }\n    },\n    {\n      \"column\": \"expt\",\n      \"properties\": {\n        \"dtype\": \"number\",\n        \"std\": 3.8478201171088138,\n        \"min\": -25.47,\n        \"max\": 3.43,\n        \"num_unique_values\": 486,\n        \"samples\": [\n          -1.2,\n          -2.78,\n          -13.43\n        ],\n        \"semantic_type\": \"\",\n        \"description\": \"\"\n      }\n    },\n    {\n      \"column\": \"calc\",\n      \"properties\": {\n        \"dtype\": \"number\",\n        \"std\": 4.186300812370095,\n        \"min\": -21.762,\n        \"max\": 3.335,\n        \"num_unique_values\": 619,\n        \"samples\": [\n          2.489,\n          -7.016,\n          2.588\n        ],\n        \"semantic_type\": \"\",\n        \"description\": \"\"\n      }\n    }\n  ]\n}"
            }
          },
          "metadata": {},
          "execution_count": 127
        }
      ]
    },
    {
      "cell_type": "code",
      "source": [
        "dataset[0].y"
      ],
      "metadata": {
        "colab": {
          "base_uri": "https://localhost:8080/"
        },
        "id": "U30T7uRBMsFl",
        "outputId": "74adb95e-0903-4302-ff48-cd6a1b8b9faf"
      },
      "execution_count": 128,
      "outputs": [
        {
          "output_type": "execute_result",
          "data": {
            "text/plain": [
              "tensor([[-11.0100]])"
            ]
          },
          "metadata": {},
          "execution_count": 128
        }
      ]
    },
    {
      "cell_type": "code",
      "source": [
        "edge_weight = dataset.data.edge_attr.sum(dim=1)"
      ],
      "metadata": {
        "colab": {
          "base_uri": "https://localhost:8080/"
        },
        "id": "yXIf_HFV444c",
        "outputId": "87fbc8e3-3c61-4359-a738-3f79b5511574"
      },
      "execution_count": 129,
      "outputs": [
        {
          "output_type": "stream",
          "name": "stderr",
          "text": [
            "/usr/local/lib/python3.10/dist-packages/torch_geometric/data/in_memory_dataset.py:300: UserWarning: It is not recommended to directly access the internal storage format `data` of an 'InMemoryDataset'. The data of the dataset is already cached, so any modifications to `data` will not be reflected when accessing its elements. Clearing the cache now by removing all elements in `dataset._data_list`. If you are absolutely certain what you are doing, access the internal storage via `InMemoryDataset._data` instead to suppress this warning. Alternatively, you can access stacked individual attributes of every graph via `dataset.{attr_name}`.\n",
            "  warnings.warn(msg)\n"
          ]
        }
      ]
    },
    {
      "cell_type": "code",
      "source": [
        "dataset.data.edge_attr"
      ],
      "metadata": {
        "colab": {
          "base_uri": "https://localhost:8080/"
        },
        "id": "R1clPhNQ5CIW",
        "outputId": "de328fea-6738-4b17-e3d4-124ecc51fed2"
      },
      "execution_count": 130,
      "outputs": [
        {
          "output_type": "stream",
          "name": "stderr",
          "text": [
            "/usr/local/lib/python3.10/dist-packages/torch_geometric/data/in_memory_dataset.py:300: UserWarning: It is not recommended to directly access the internal storage format `data` of an 'InMemoryDataset'. If you are absolutely certain what you are doing, access the internal storage via `InMemoryDataset._data` instead to suppress this warning. Alternatively, you can access stacked individual attributes of every graph via `dataset.{attr_name}`.\n",
            "  warnings.warn(msg)\n"
          ]
        },
        {
          "output_type": "execute_result",
          "data": {
            "text/plain": [
              "tensor([[1, 0, 0],\n",
              "        [1, 0, 0],\n",
              "        [1, 0, 0],\n",
              "        ...,\n",
              "        [1, 0, 0],\n",
              "        [1, 0, 0],\n",
              "        [1, 0, 0]])"
            ]
          },
          "metadata": {},
          "execution_count": 130
        }
      ]
    },
    {
      "cell_type": "code",
      "source": [
        "print(dataset.data.edge_index)"
      ],
      "metadata": {
        "colab": {
          "base_uri": "https://localhost:8080/"
        },
        "id": "Y1fm8HxA7ICY",
        "outputId": "aae4ee7e-c5a0-4997-bf8d-06fb049e0cbe"
      },
      "execution_count": 131,
      "outputs": [
        {
          "output_type": "stream",
          "name": "stdout",
          "text": [
            "tensor([[0, 1, 1,  ..., 4, 5, 5],\n",
            "        [1, 0, 2,  ..., 5, 0, 4]])\n"
          ]
        }
      ]
    },
    {
      "cell_type": "code",
      "source": [
        "unique_attrs = torch.unique(dataset.data.edge_attr, dim=0)\n",
        "print(\"Unique edge attribute patterns:\", unique_attrs)"
      ],
      "metadata": {
        "colab": {
          "base_uri": "https://localhost:8080/"
        },
        "id": "tx6Kxw1u8NXo",
        "outputId": "c0b6f8c1-b5de-400c-aeca-fc342f305873"
      },
      "execution_count": 132,
      "outputs": [
        {
          "output_type": "stream",
          "name": "stdout",
          "text": [
            "Unique edge attribute patterns: tensor([[ 1,  0,  0],\n",
            "        [ 1,  0,  1],\n",
            "        [ 2,  0,  0],\n",
            "        [ 2,  0,  1],\n",
            "        [ 2,  2,  0],\n",
            "        [ 2,  2,  1],\n",
            "        [ 2,  3,  0],\n",
            "        [ 2,  3,  1],\n",
            "        [ 3,  0,  0],\n",
            "        [ 3,  0,  1],\n",
            "        [12,  0,  1]])\n"
          ]
        }
      ]
    },
    {
      "cell_type": "code",
      "source": [
        "from torch_geometric.utils import to_dense_adj\n",
        "\n",
        "# edge_index: (2, E), edge_weight: (E,)\n",
        "adj = to_dense_adj(dataset.data.edge_index, edge_attr=edge_weight)  # Shape: (1, N, N)\n"
      ],
      "metadata": {
        "id": "YCdg4Ycl3rmC"
      },
      "execution_count": 133,
      "outputs": []
    },
    {
      "cell_type": "code",
      "source": [
        "adj=adj.squeeze(0)"
      ],
      "metadata": {
        "id": "BV2ZUykdA1Us"
      },
      "execution_count": 134,
      "outputs": []
    },
    {
      "cell_type": "code",
      "source": [
        "adj.shape"
      ],
      "metadata": {
        "colab": {
          "base_uri": "https://localhost:8080/"
        },
        "id": "veU_filyA_u_",
        "outputId": "1854658f-72cf-49cc-8bb9-43677a7ef27e"
      },
      "execution_count": 135,
      "outputs": [
        {
          "output_type": "execute_result",
          "data": {
            "text/plain": [
              "torch.Size([24, 24])"
            ]
          },
          "metadata": {},
          "execution_count": 135
        }
      ]
    },
    {
      "cell_type": "markdown",
      "source": [
        "So, the target values are the experimental hydration energies"
      ],
      "metadata": {
        "id": "9lqvs_4oP_JL"
      }
    },
    {
      "cell_type": "markdown",
      "source": [
        "### Model Creation"
      ],
      "metadata": {
        "id": "Iv9SB4q95lJI"
      }
    },
    {
      "cell_type": "code",
      "source": [
        "import torch\n",
        "import torch.nn as nn\n",
        "import torch.nn.functional as F\n",
        "from torch_geometric.nn import global_add_pool"
      ],
      "metadata": {
        "id": "3TSLK4ohBkmL"
      },
      "execution_count": 136,
      "outputs": []
    },
    {
      "cell_type": "code",
      "source": [
        "class MPNN(nn.Module):\n",
        "  def __init__(self, node_dim, edge_dim=None, hidden_dim=64):\n",
        "    super(MPNN, self).__init__()\n",
        "    self.node=node_dim\n",
        "    self.edge=edge_dim\n",
        "    self.hidden=hidden_dim\n",
        "    self.lin0= nn.Linear(in_features=node_dim, out_features=hidden_dim)\n",
        "    self.conv1= GCNConv(in_channels=hidden_dim, out_channels=hidden_dim)\n",
        "    self.conv2= GCNConv(in_channels=hidden_dim, out_channels=hidden_dim)\n",
        "\n",
        "    # Feature update layer\n",
        "    self.feature_update= nn.Linear(in_features=2*hidden_dim, out_features=hidden_dim)\n",
        "\n",
        "  def forward(self, node_attr,edge_index):\n",
        "    node_attr= node_attr.float()\n",
        "    x=self.lin0(node_attr)\n",
        "    x1=F.relu(self.conv1(x, edge_index))\n",
        "    x2=F.relu(self.conv2(x1, edge_index))\n",
        "    x=self.feature_update(torch.cat([x, x2], dim=1))\n",
        "    return x\n",
        "\n"
      ],
      "metadata": {
        "id": "QGsPRrTK5k6M"
      },
      "execution_count": 137,
      "outputs": []
    },
    {
      "cell_type": "code",
      "source": [
        "class SoluGCN(nn.Module):\n",
        "  def __init__(self, node_dim, edge_weight, edge_dim=None, hidden_dim=64):\n",
        "    super(SoluGCN, self).__init__()\n",
        "    self.node=node_dim\n",
        "    self.edge=edge_dim\n",
        "    self.hidden=hidden_dim\n",
        "    self.edge_weight=edge_weight\n",
        "    self.mpnn = MPNN(node_dim, edge_dim, hidden_dim)\n",
        "    self.lin1=nn.Linear(in_features=hidden_dim, out_features=128)\n",
        "    self.lin2=nn.Linear(in_features=128, out_features=64)\n",
        "    self.lin3=nn.Linear(in_features=64, out_features=1)\n",
        "    self.pool = global_add_pool\n",
        "\n",
        "  def forward(self, dataset):\n",
        "    x, edge_index, batch = dataset.x, dataset.edge_index, dataset.batch\n",
        "    x=self.mpnn(x, edge_index)\n",
        "    x=self.pool(x, batch)\n",
        "    x=F.relu(self.lin1(x))\n",
        "    x=F.relu(self.lin2(x))\n",
        "    x=self.lin3(x)\n",
        "    return x\n",
        "\n"
      ],
      "metadata": {
        "id": "wiha7cqDP8Ih"
      },
      "execution_count": 138,
      "outputs": []
    },
    {
      "cell_type": "code",
      "source": [
        "dataset.data"
      ],
      "metadata": {
        "colab": {
          "base_uri": "https://localhost:8080/"
        },
        "id": "bnFwRMJGRtBd",
        "outputId": "54d0e583-c486-4f59-b17e-1be9ab220386"
      },
      "execution_count": 139,
      "outputs": [
        {
          "output_type": "execute_result",
          "data": {
            "text/plain": [
              "Data(x=[5600, 9], edge_index=[2, 10770], edge_attr=[10770, 3], y=[642, 1], smiles=[642])"
            ]
          },
          "metadata": {},
          "execution_count": 139
        }
      ]
    },
    {
      "cell_type": "code",
      "source": [
        "train_dataset= dataset[:int(0.8 * len(dataset))]\n",
        "val_dataset= dataset[int(0.8 * len(dataset)):int(0.9 * len(dataset))]\n",
        "test_dataset= dataset[int(0.9 * len(dataset)):]"
      ],
      "metadata": {
        "id": "AIg9tSknRuRs"
      },
      "execution_count": 140,
      "outputs": []
    },
    {
      "cell_type": "code",
      "source": [
        "\n",
        "train_dataset"
      ],
      "metadata": {
        "colab": {
          "base_uri": "https://localhost:8080/"
        },
        "id": "Q_RYCA6bSG7-",
        "outputId": "01516db8-f219-4414-c580-a24aa9897273"
      },
      "execution_count": 141,
      "outputs": [
        {
          "output_type": "execute_result",
          "data": {
            "text/plain": [
              "FreeSolv(513)"
            ]
          },
          "metadata": {},
          "execution_count": 141
        }
      ]
    },
    {
      "cell_type": "code",
      "source": [
        "test_dataset[0]"
      ],
      "metadata": {
        "colab": {
          "base_uri": "https://localhost:8080/"
        },
        "id": "0vj7DLG4SJ35",
        "outputId": "b45c76ac-3c65-4f88-c246-a4929b177743"
      },
      "execution_count": 142,
      "outputs": [
        {
          "output_type": "execute_result",
          "data": {
            "text/plain": [
              "Data(x=[9, 9], edge_index=[2, 18], edge_attr=[18, 3], smiles='Cc1ccc(cc1C)O', y=[1, 1])"
            ]
          },
          "metadata": {},
          "execution_count": 142
        }
      ]
    },
    {
      "cell_type": "code",
      "source": [
        "train_dataset[0]"
      ],
      "metadata": {
        "colab": {
          "base_uri": "https://localhost:8080/"
        },
        "id": "UIzZtZo7SLue",
        "outputId": "ecc162d4-ab57-49cf-9d11-2bbc503c7794"
      },
      "execution_count": 143,
      "outputs": [
        {
          "output_type": "execute_result",
          "data": {
            "text/plain": [
              "Data(x=[13, 9], edge_index=[2, 26], edge_attr=[26, 3], smiles='CN(C)C(=O)c1ccc(cc1)OC', y=[1, 1])"
            ]
          },
          "metadata": {},
          "execution_count": 143
        }
      ]
    },
    {
      "cell_type": "code",
      "source": [
        "train_loader = DataLoader(train_dataset, batch_size=32, shuffle=True)\n",
        "val_loader = DataLoader(val_dataset, batch_size=32, shuffle=False)\n",
        "test_loader = DataLoader(test_dataset, batch_size=32, shuffle=False)"
      ],
      "metadata": {
        "id": "SOYhuUseSOUm",
        "colab": {
          "base_uri": "https://localhost:8080/"
        },
        "outputId": "d20ccbcd-d48f-4412-c823-4c2d13c87730"
      },
      "execution_count": 144,
      "outputs": [
        {
          "output_type": "stream",
          "name": "stderr",
          "text": [
            "/usr/local/lib/python3.10/dist-packages/torch_geometric/deprecation.py:26: UserWarning: 'data.DataLoader' is deprecated, use 'loader.DataLoader' instead\n",
            "  warnings.warn(out)\n"
          ]
        }
      ]
    },
    {
      "cell_type": "code",
      "source": [
        "dataset.edge_index.shape"
      ],
      "metadata": {
        "colab": {
          "base_uri": "https://localhost:8080/"
        },
        "id": "iJSavlguSpLx",
        "outputId": "1aad6d32-d984-4613-fb72-fa8305630621"
      },
      "execution_count": 145,
      "outputs": [
        {
          "output_type": "execute_result",
          "data": {
            "text/plain": [
              "torch.Size([2, 10770])"
            ]
          },
          "metadata": {},
          "execution_count": 145
        }
      ]
    },
    {
      "cell_type": "code",
      "source": [
        "for batch in train_loader:\n",
        "  new=batch\n",
        "  break"
      ],
      "metadata": {
        "id": "TD1aXvU-7zIW"
      },
      "execution_count": 146,
      "outputs": []
    },
    {
      "cell_type": "code",
      "source": [
        "print(f\"data: {new.x.shape}\")\n",
        "print(f\"edge index: {new.edge_index.shape}\")\n",
        "print(f\"edge attr: {new.edge_attr.shape}\")\n",
        "print(f\"target: {new.y.shape}\")"
      ],
      "metadata": {
        "colab": {
          "base_uri": "https://localhost:8080/"
        },
        "id": "-dZyaawT7-zQ",
        "outputId": "f32d1e76-54be-4477-eccb-9afdbd82cd60"
      },
      "execution_count": 147,
      "outputs": [
        {
          "output_type": "stream",
          "name": "stdout",
          "text": [
            "data: torch.Size([290, 9])\n",
            "edge index: torch.Size([2, 556])\n",
            "edge attr: torch.Size([556, 3])\n",
            "target: torch.Size([32, 1])\n"
          ]
        }
      ]
    },
    {
      "cell_type": "code",
      "source": [
        "device = torch.device(\"cuda\" if torch.cuda.is_available() else \"cpu\")"
      ],
      "metadata": {
        "id": "EO4OiudvTyU8"
      },
      "execution_count": 148,
      "outputs": []
    },
    {
      "cell_type": "code",
      "source": [
        "model = SoluGCN(node_dim=dataset.num_node_features,edge_weight=edge_weight, hidden_dim=64).to(device)"
      ],
      "metadata": {
        "id": "y9u5naCxSq5t"
      },
      "execution_count": 149,
      "outputs": []
    },
    {
      "cell_type": "code",
      "source": [
        "model"
      ],
      "metadata": {
        "colab": {
          "base_uri": "https://localhost:8080/"
        },
        "id": "W8LKGQlrTZM2",
        "outputId": "ca7e887b-edd4-4c9b-a35e-43e639c62975"
      },
      "execution_count": 150,
      "outputs": [
        {
          "output_type": "execute_result",
          "data": {
            "text/plain": [
              "SoluGCN(\n",
              "  (mpnn): MPNN(\n",
              "    (lin0): Linear(in_features=9, out_features=64, bias=True)\n",
              "    (conv1): GCNConv(64, 64)\n",
              "    (conv2): GCNConv(64, 64)\n",
              "    (feature_update): Linear(in_features=128, out_features=64, bias=True)\n",
              "  )\n",
              "  (lin1): Linear(in_features=64, out_features=128, bias=True)\n",
              "  (lin2): Linear(in_features=128, out_features=64, bias=True)\n",
              "  (lin3): Linear(in_features=64, out_features=1, bias=True)\n",
              ")"
            ]
          },
          "metadata": {},
          "execution_count": 150
        }
      ]
    },
    {
      "cell_type": "markdown",
      "source": [
        "### Training"
      ],
      "metadata": {
        "id": "g0JC8kYEx3zH"
      }
    },
    {
      "cell_type": "code",
      "source": [
        "def train(model, loader, optimizer, criterion, device):\n",
        "  model.train()\n",
        "  total_loss = 0\n",
        "  for data in loader:\n",
        "      data = data.to(device)\n",
        "      optimizer.zero_grad()\n",
        "      output = model(data)\n",
        "      loss = criterion(output, data.y.view(-1, 1))\n",
        "      loss.backward()\n",
        "      optimizer.step()\n",
        "      total_loss += loss.item()\n",
        "  return total_loss / len(loader)"
      ],
      "metadata": {
        "id": "JlKZg0JVLxZX"
      },
      "execution_count": 167,
      "outputs": []
    },
    {
      "cell_type": "code",
      "source": [
        "optimizer = torch.optim.Adam(model.parameters(), lr=0.001)\n",
        "criterion = nn.MSELoss()\n",
        "\n",
        "# Training loop\n",
        "epochs = 1000\n",
        "for epoch in range(epochs):\n",
        "    train_loss = train(model, train_loader, optimizer, criterion, device)\n",
        "    # val_loss = evaluate(model, val_loader, criterion, device)\n",
        "    print(f\"Epoch {epoch+1}/{epochs}, Train Loss: {train_loss:.4f}\")"
      ],
      "metadata": {
        "id": "v2GDNUNsUUaV",
        "colab": {
          "base_uri": "https://localhost:8080/"
        },
        "outputId": "90a59a05-087a-48e8-cead-778d65ffe7e0"
      },
      "execution_count": 168,
      "outputs": [
        {
          "output_type": "stream",
          "name": "stdout",
          "text": [
            "Epoch 1/1000, Train Loss: 3.9574\n",
            "Epoch 2/1000, Train Loss: 3.8594\n",
            "Epoch 3/1000, Train Loss: 3.1125\n",
            "Epoch 4/1000, Train Loss: 3.2569\n",
            "Epoch 5/1000, Train Loss: 3.0053\n",
            "Epoch 6/1000, Train Loss: 3.3826\n",
            "Epoch 7/1000, Train Loss: 3.4605\n",
            "Epoch 8/1000, Train Loss: 4.7069\n",
            "Epoch 9/1000, Train Loss: 4.9647\n",
            "Epoch 10/1000, Train Loss: 3.3996\n",
            "Epoch 11/1000, Train Loss: 2.9752\n",
            "Epoch 12/1000, Train Loss: 2.9986\n",
            "Epoch 13/1000, Train Loss: 4.0986\n",
            "Epoch 14/1000, Train Loss: 3.4298\n",
            "Epoch 15/1000, Train Loss: 3.8453\n",
            "Epoch 16/1000, Train Loss: 3.8913\n",
            "Epoch 17/1000, Train Loss: 3.9345\n",
            "Epoch 18/1000, Train Loss: 9.5472\n",
            "Epoch 19/1000, Train Loss: 7.0894\n",
            "Epoch 20/1000, Train Loss: 6.3561\n",
            "Epoch 21/1000, Train Loss: 5.6212\n",
            "Epoch 22/1000, Train Loss: 5.1320\n",
            "Epoch 23/1000, Train Loss: 4.6305\n",
            "Epoch 24/1000, Train Loss: 4.0073\n",
            "Epoch 25/1000, Train Loss: 3.6323\n",
            "Epoch 26/1000, Train Loss: 3.4520\n",
            "Epoch 27/1000, Train Loss: 3.4834\n",
            "Epoch 28/1000, Train Loss: 3.8000\n",
            "Epoch 29/1000, Train Loss: 4.9077\n",
            "Epoch 30/1000, Train Loss: 3.9481\n",
            "Epoch 31/1000, Train Loss: 3.3430\n",
            "Epoch 32/1000, Train Loss: 3.7833\n",
            "Epoch 33/1000, Train Loss: 4.5794\n",
            "Epoch 34/1000, Train Loss: 3.3991\n",
            "Epoch 35/1000, Train Loss: 3.5035\n",
            "Epoch 36/1000, Train Loss: 3.1655\n",
            "Epoch 37/1000, Train Loss: 2.8404\n",
            "Epoch 38/1000, Train Loss: 3.1234\n",
            "Epoch 39/1000, Train Loss: 2.6446\n",
            "Epoch 40/1000, Train Loss: 3.0402\n",
            "Epoch 41/1000, Train Loss: 2.8870\n",
            "Epoch 42/1000, Train Loss: 2.7305\n",
            "Epoch 43/1000, Train Loss: 3.1208\n",
            "Epoch 44/1000, Train Loss: 3.2898\n",
            "Epoch 45/1000, Train Loss: 3.9987\n",
            "Epoch 46/1000, Train Loss: 3.3838\n",
            "Epoch 47/1000, Train Loss: 2.6724\n",
            "Epoch 48/1000, Train Loss: 2.6166\n",
            "Epoch 49/1000, Train Loss: 2.4351\n",
            "Epoch 50/1000, Train Loss: 4.3539\n",
            "Epoch 51/1000, Train Loss: 2.9658\n",
            "Epoch 52/1000, Train Loss: 2.5734\n",
            "Epoch 53/1000, Train Loss: 2.3725\n",
            "Epoch 54/1000, Train Loss: 2.2107\n",
            "Epoch 55/1000, Train Loss: 2.1823\n",
            "Epoch 56/1000, Train Loss: 2.3331\n",
            "Epoch 57/1000, Train Loss: 2.1864\n",
            "Epoch 58/1000, Train Loss: 2.4392\n",
            "Epoch 59/1000, Train Loss: 2.2263\n",
            "Epoch 60/1000, Train Loss: 2.0428\n",
            "Epoch 61/1000, Train Loss: 2.1506\n",
            "Epoch 62/1000, Train Loss: 2.3355\n",
            "Epoch 63/1000, Train Loss: 2.2055\n",
            "Epoch 64/1000, Train Loss: 2.4398\n",
            "Epoch 65/1000, Train Loss: 2.3303\n",
            "Epoch 66/1000, Train Loss: 2.1014\n",
            "Epoch 67/1000, Train Loss: 2.1467\n",
            "Epoch 68/1000, Train Loss: 2.5964\n",
            "Epoch 69/1000, Train Loss: 2.1914\n",
            "Epoch 70/1000, Train Loss: 2.2473\n",
            "Epoch 71/1000, Train Loss: 2.0783\n",
            "Epoch 72/1000, Train Loss: 1.9472\n",
            "Epoch 73/1000, Train Loss: 1.8675\n",
            "Epoch 74/1000, Train Loss: 2.0269\n",
            "Epoch 75/1000, Train Loss: 2.1580\n",
            "Epoch 76/1000, Train Loss: 2.7976\n",
            "Epoch 77/1000, Train Loss: 10.2954\n",
            "Epoch 78/1000, Train Loss: 11.2628\n",
            "Epoch 79/1000, Train Loss: 5.8778\n",
            "Epoch 80/1000, Train Loss: 4.6141\n",
            "Epoch 81/1000, Train Loss: 4.8758\n",
            "Epoch 82/1000, Train Loss: 6.2393\n",
            "Epoch 83/1000, Train Loss: 5.9486\n",
            "Epoch 84/1000, Train Loss: 3.9124\n",
            "Epoch 85/1000, Train Loss: 4.0120\n",
            "Epoch 86/1000, Train Loss: 3.3424\n",
            "Epoch 87/1000, Train Loss: 2.9001\n",
            "Epoch 88/1000, Train Loss: 3.3498\n",
            "Epoch 89/1000, Train Loss: 3.0608\n",
            "Epoch 90/1000, Train Loss: 2.7556\n",
            "Epoch 91/1000, Train Loss: 3.0500\n",
            "Epoch 92/1000, Train Loss: 2.6197\n",
            "Epoch 93/1000, Train Loss: 2.2342\n",
            "Epoch 94/1000, Train Loss: 3.0002\n",
            "Epoch 95/1000, Train Loss: 3.1495\n",
            "Epoch 96/1000, Train Loss: 2.4739\n",
            "Epoch 97/1000, Train Loss: 2.1435\n",
            "Epoch 98/1000, Train Loss: 2.6903\n",
            "Epoch 99/1000, Train Loss: 2.5149\n",
            "Epoch 100/1000, Train Loss: 2.2587\n",
            "Epoch 101/1000, Train Loss: 2.1786\n",
            "Epoch 102/1000, Train Loss: 1.9229\n",
            "Epoch 103/1000, Train Loss: 1.9443\n",
            "Epoch 104/1000, Train Loss: 1.7036\n",
            "Epoch 105/1000, Train Loss: 1.6913\n",
            "Epoch 106/1000, Train Loss: 1.8458\n",
            "Epoch 107/1000, Train Loss: 2.3753\n",
            "Epoch 108/1000, Train Loss: 2.0304\n",
            "Epoch 109/1000, Train Loss: 2.1511\n",
            "Epoch 110/1000, Train Loss: 2.5431\n",
            "Epoch 111/1000, Train Loss: 2.3030\n",
            "Epoch 112/1000, Train Loss: 1.9333\n",
            "Epoch 113/1000, Train Loss: 1.8627\n",
            "Epoch 114/1000, Train Loss: 1.7428\n",
            "Epoch 115/1000, Train Loss: 1.7577\n",
            "Epoch 116/1000, Train Loss: 2.3162\n",
            "Epoch 117/1000, Train Loss: 2.5687\n",
            "Epoch 118/1000, Train Loss: 1.7590\n",
            "Epoch 119/1000, Train Loss: 1.5339\n",
            "Epoch 120/1000, Train Loss: 1.9762\n",
            "Epoch 121/1000, Train Loss: 2.2260\n",
            "Epoch 122/1000, Train Loss: 1.7702\n",
            "Epoch 123/1000, Train Loss: 1.8358\n",
            "Epoch 124/1000, Train Loss: 1.7039\n",
            "Epoch 125/1000, Train Loss: 1.6701\n",
            "Epoch 126/1000, Train Loss: 2.2486\n",
            "Epoch 127/1000, Train Loss: 1.6760\n",
            "Epoch 128/1000, Train Loss: 1.5953\n",
            "Epoch 129/1000, Train Loss: 1.6422\n",
            "Epoch 130/1000, Train Loss: 1.6141\n",
            "Epoch 131/1000, Train Loss: 1.6359\n",
            "Epoch 132/1000, Train Loss: 1.5429\n",
            "Epoch 133/1000, Train Loss: 1.8222\n",
            "Epoch 134/1000, Train Loss: 2.7539\n",
            "Epoch 135/1000, Train Loss: 2.2509\n",
            "Epoch 136/1000, Train Loss: 2.5054\n",
            "Epoch 137/1000, Train Loss: 2.4396\n",
            "Epoch 138/1000, Train Loss: 2.6328\n",
            "Epoch 139/1000, Train Loss: 1.7096\n",
            "Epoch 140/1000, Train Loss: 1.4890\n",
            "Epoch 141/1000, Train Loss: 1.5171\n",
            "Epoch 142/1000, Train Loss: 1.4665\n",
            "Epoch 143/1000, Train Loss: 1.9049\n",
            "Epoch 144/1000, Train Loss: 1.6064\n",
            "Epoch 145/1000, Train Loss: 3.0427\n",
            "Epoch 146/1000, Train Loss: 2.1077\n",
            "Epoch 147/1000, Train Loss: 1.7099\n",
            "Epoch 148/1000, Train Loss: 1.5742\n",
            "Epoch 149/1000, Train Loss: 1.4942\n",
            "Epoch 150/1000, Train Loss: 1.7119\n",
            "Epoch 151/1000, Train Loss: 1.5353\n",
            "Epoch 152/1000, Train Loss: 2.4009\n",
            "Epoch 153/1000, Train Loss: 3.9961\n",
            "Epoch 154/1000, Train Loss: 2.7774\n",
            "Epoch 155/1000, Train Loss: 2.1281\n",
            "Epoch 156/1000, Train Loss: 1.6991\n",
            "Epoch 157/1000, Train Loss: 1.5051\n",
            "Epoch 158/1000, Train Loss: 1.4476\n",
            "Epoch 159/1000, Train Loss: 1.5713\n",
            "Epoch 160/1000, Train Loss: 1.5570\n",
            "Epoch 161/1000, Train Loss: 1.4875\n",
            "Epoch 162/1000, Train Loss: 1.3413\n",
            "Epoch 163/1000, Train Loss: 1.4705\n",
            "Epoch 164/1000, Train Loss: 1.6148\n",
            "Epoch 165/1000, Train Loss: 1.7570\n",
            "Epoch 166/1000, Train Loss: 3.2464\n",
            "Epoch 167/1000, Train Loss: 2.8275\n",
            "Epoch 168/1000, Train Loss: 1.9636\n",
            "Epoch 169/1000, Train Loss: 1.5475\n",
            "Epoch 170/1000, Train Loss: 1.3866\n",
            "Epoch 171/1000, Train Loss: 1.3677\n",
            "Epoch 172/1000, Train Loss: 1.2636\n",
            "Epoch 173/1000, Train Loss: 1.1441\n",
            "Epoch 174/1000, Train Loss: 1.3486\n",
            "Epoch 175/1000, Train Loss: 1.2020\n",
            "Epoch 176/1000, Train Loss: 1.1549\n",
            "Epoch 177/1000, Train Loss: 1.2770\n",
            "Epoch 178/1000, Train Loss: 5.3968\n",
            "Epoch 179/1000, Train Loss: 4.0282\n",
            "Epoch 180/1000, Train Loss: 3.4603\n",
            "Epoch 181/1000, Train Loss: 2.9400\n",
            "Epoch 182/1000, Train Loss: 2.1261\n",
            "Epoch 183/1000, Train Loss: 1.9523\n",
            "Epoch 184/1000, Train Loss: 1.9528\n",
            "Epoch 185/1000, Train Loss: 1.7276\n",
            "Epoch 186/1000, Train Loss: 1.8515\n",
            "Epoch 187/1000, Train Loss: 1.6250\n",
            "Epoch 188/1000, Train Loss: 1.6906\n",
            "Epoch 189/1000, Train Loss: 1.7689\n",
            "Epoch 190/1000, Train Loss: 3.9393\n",
            "Epoch 191/1000, Train Loss: 3.8248\n",
            "Epoch 192/1000, Train Loss: 3.1558\n",
            "Epoch 193/1000, Train Loss: 4.2786\n",
            "Epoch 194/1000, Train Loss: 2.6285\n",
            "Epoch 195/1000, Train Loss: 2.3881\n",
            "Epoch 196/1000, Train Loss: 1.8980\n",
            "Epoch 197/1000, Train Loss: 1.7836\n",
            "Epoch 198/1000, Train Loss: 1.9036\n",
            "Epoch 199/1000, Train Loss: 1.7186\n",
            "Epoch 200/1000, Train Loss: 1.6932\n",
            "Epoch 201/1000, Train Loss: 1.6130\n",
            "Epoch 202/1000, Train Loss: 1.9525\n",
            "Epoch 203/1000, Train Loss: 3.6628\n",
            "Epoch 204/1000, Train Loss: 5.8570\n",
            "Epoch 205/1000, Train Loss: 3.0668\n",
            "Epoch 206/1000, Train Loss: 2.1268\n",
            "Epoch 207/1000, Train Loss: 2.3435\n",
            "Epoch 208/1000, Train Loss: 2.0597\n",
            "Epoch 209/1000, Train Loss: 1.9307\n",
            "Epoch 210/1000, Train Loss: 1.9085\n",
            "Epoch 211/1000, Train Loss: 1.4511\n",
            "Epoch 212/1000, Train Loss: 1.9777\n",
            "Epoch 213/1000, Train Loss: 1.9402\n",
            "Epoch 214/1000, Train Loss: 2.4162\n",
            "Epoch 215/1000, Train Loss: 1.8391\n",
            "Epoch 216/1000, Train Loss: 1.6886\n",
            "Epoch 217/1000, Train Loss: 1.5372\n",
            "Epoch 218/1000, Train Loss: 1.4419\n",
            "Epoch 219/1000, Train Loss: 1.2431\n",
            "Epoch 220/1000, Train Loss: 1.2724\n",
            "Epoch 221/1000, Train Loss: 1.3380\n",
            "Epoch 222/1000, Train Loss: 1.3370\n",
            "Epoch 223/1000, Train Loss: 2.7837\n",
            "Epoch 224/1000, Train Loss: 2.3010\n",
            "Epoch 225/1000, Train Loss: 2.7790\n",
            "Epoch 226/1000, Train Loss: 2.9212\n",
            "Epoch 227/1000, Train Loss: 1.8437\n",
            "Epoch 228/1000, Train Loss: 1.5459\n",
            "Epoch 229/1000, Train Loss: 1.2925\n",
            "Epoch 230/1000, Train Loss: 1.6310\n",
            "Epoch 231/1000, Train Loss: 1.4183\n",
            "Epoch 232/1000, Train Loss: 1.1692\n",
            "Epoch 233/1000, Train Loss: 1.3065\n",
            "Epoch 234/1000, Train Loss: 1.5385\n",
            "Epoch 235/1000, Train Loss: 1.6149\n",
            "Epoch 236/1000, Train Loss: 2.2938\n",
            "Epoch 237/1000, Train Loss: 1.3114\n",
            "Epoch 238/1000, Train Loss: 1.3959\n",
            "Epoch 239/1000, Train Loss: 1.5205\n",
            "Epoch 240/1000, Train Loss: 1.7637\n",
            "Epoch 241/1000, Train Loss: 3.0112\n",
            "Epoch 242/1000, Train Loss: 3.7202\n",
            "Epoch 243/1000, Train Loss: 5.3281\n",
            "Epoch 244/1000, Train Loss: 4.0231\n",
            "Epoch 245/1000, Train Loss: 2.9618\n",
            "Epoch 246/1000, Train Loss: 1.9395\n",
            "Epoch 247/1000, Train Loss: 1.6950\n",
            "Epoch 248/1000, Train Loss: 1.3271\n",
            "Epoch 249/1000, Train Loss: 1.2776\n",
            "Epoch 250/1000, Train Loss: 1.2373\n",
            "Epoch 251/1000, Train Loss: 1.1138\n",
            "Epoch 252/1000, Train Loss: 1.0451\n",
            "Epoch 253/1000, Train Loss: 1.1135\n",
            "Epoch 254/1000, Train Loss: 1.5972\n",
            "Epoch 255/1000, Train Loss: 3.5931\n",
            "Epoch 256/1000, Train Loss: 2.3971\n",
            "Epoch 257/1000, Train Loss: 2.2479\n",
            "Epoch 258/1000, Train Loss: 2.7719\n",
            "Epoch 259/1000, Train Loss: 1.5737\n",
            "Epoch 260/1000, Train Loss: 1.2311\n",
            "Epoch 261/1000, Train Loss: 1.1171\n",
            "Epoch 262/1000, Train Loss: 1.0034\n",
            "Epoch 263/1000, Train Loss: 0.9475\n",
            "Epoch 264/1000, Train Loss: 0.9738\n",
            "Epoch 265/1000, Train Loss: 0.8848\n",
            "Epoch 266/1000, Train Loss: 0.9154\n",
            "Epoch 267/1000, Train Loss: 0.8732\n",
            "Epoch 268/1000, Train Loss: 1.0650\n",
            "Epoch 269/1000, Train Loss: 1.1979\n",
            "Epoch 270/1000, Train Loss: 0.9670\n",
            "Epoch 271/1000, Train Loss: 1.5742\n",
            "Epoch 272/1000, Train Loss: 1.1264\n",
            "Epoch 273/1000, Train Loss: 1.0408\n",
            "Epoch 274/1000, Train Loss: 1.4539\n",
            "Epoch 275/1000, Train Loss: 1.5955\n",
            "Epoch 276/1000, Train Loss: 1.1494\n",
            "Epoch 277/1000, Train Loss: 0.8740\n",
            "Epoch 278/1000, Train Loss: 0.8733\n",
            "Epoch 279/1000, Train Loss: 0.9152\n",
            "Epoch 280/1000, Train Loss: 1.3614\n",
            "Epoch 281/1000, Train Loss: 1.0072\n",
            "Epoch 282/1000, Train Loss: 0.8526\n",
            "Epoch 283/1000, Train Loss: 0.8276\n",
            "Epoch 284/1000, Train Loss: 0.8663\n",
            "Epoch 285/1000, Train Loss: 0.7872\n",
            "Epoch 286/1000, Train Loss: 0.7551\n",
            "Epoch 287/1000, Train Loss: 0.8531\n",
            "Epoch 288/1000, Train Loss: 0.7308\n",
            "Epoch 289/1000, Train Loss: 0.8727\n",
            "Epoch 290/1000, Train Loss: 1.4747\n",
            "Epoch 291/1000, Train Loss: 1.1058\n",
            "Epoch 292/1000, Train Loss: 0.7856\n",
            "Epoch 293/1000, Train Loss: 0.7239\n",
            "Epoch 294/1000, Train Loss: 0.6449\n",
            "Epoch 295/1000, Train Loss: 0.6752\n",
            "Epoch 296/1000, Train Loss: 1.1553\n",
            "Epoch 297/1000, Train Loss: 1.0991\n",
            "Epoch 298/1000, Train Loss: 0.7604\n",
            "Epoch 299/1000, Train Loss: 0.6380\n",
            "Epoch 300/1000, Train Loss: 0.6857\n",
            "Epoch 301/1000, Train Loss: 0.7039\n",
            "Epoch 302/1000, Train Loss: 0.6026\n",
            "Epoch 303/1000, Train Loss: 0.5652\n",
            "Epoch 304/1000, Train Loss: 0.6511\n",
            "Epoch 305/1000, Train Loss: 0.8494\n",
            "Epoch 306/1000, Train Loss: 0.5850\n",
            "Epoch 307/1000, Train Loss: 0.7781\n",
            "Epoch 308/1000, Train Loss: 3.1568\n",
            "Epoch 309/1000, Train Loss: 1.6846\n",
            "Epoch 310/1000, Train Loss: 1.2591\n",
            "Epoch 311/1000, Train Loss: 0.8539\n",
            "Epoch 312/1000, Train Loss: 0.6519\n",
            "Epoch 313/1000, Train Loss: 0.5891\n",
            "Epoch 314/1000, Train Loss: 0.6489\n",
            "Epoch 315/1000, Train Loss: 0.5903\n",
            "Epoch 316/1000, Train Loss: 0.5980\n",
            "Epoch 317/1000, Train Loss: 0.5894\n",
            "Epoch 318/1000, Train Loss: 0.8104\n",
            "Epoch 319/1000, Train Loss: 1.3059\n",
            "Epoch 320/1000, Train Loss: 1.0207\n",
            "Epoch 321/1000, Train Loss: 0.7112\n",
            "Epoch 322/1000, Train Loss: 0.6076\n",
            "Epoch 323/1000, Train Loss: 0.6048\n",
            "Epoch 324/1000, Train Loss: 0.5241\n",
            "Epoch 325/1000, Train Loss: 0.6285\n",
            "Epoch 326/1000, Train Loss: 0.5706\n",
            "Epoch 327/1000, Train Loss: 0.4888\n",
            "Epoch 328/1000, Train Loss: 0.5730\n",
            "Epoch 329/1000, Train Loss: 0.6026\n",
            "Epoch 330/1000, Train Loss: 0.6196\n",
            "Epoch 331/1000, Train Loss: 0.5772\n",
            "Epoch 332/1000, Train Loss: 1.9803\n",
            "Epoch 333/1000, Train Loss: 1.1986\n",
            "Epoch 334/1000, Train Loss: 0.9832\n",
            "Epoch 335/1000, Train Loss: 0.7364\n",
            "Epoch 336/1000, Train Loss: 0.9262\n",
            "Epoch 337/1000, Train Loss: 0.8287\n",
            "Epoch 338/1000, Train Loss: 0.8376\n",
            "Epoch 339/1000, Train Loss: 2.2771\n",
            "Epoch 340/1000, Train Loss: 1.6901\n",
            "Epoch 341/1000, Train Loss: 1.4361\n",
            "Epoch 342/1000, Train Loss: 1.9498\n",
            "Epoch 343/1000, Train Loss: 1.1104\n",
            "Epoch 344/1000, Train Loss: 1.5239\n",
            "Epoch 345/1000, Train Loss: 2.4708\n",
            "Epoch 346/1000, Train Loss: 1.3056\n",
            "Epoch 347/1000, Train Loss: 0.8613\n",
            "Epoch 348/1000, Train Loss: 0.7648\n",
            "Epoch 349/1000, Train Loss: 1.0565\n",
            "Epoch 350/1000, Train Loss: 0.6538\n",
            "Epoch 351/1000, Train Loss: 0.5796\n",
            "Epoch 352/1000, Train Loss: 0.5625\n",
            "Epoch 353/1000, Train Loss: 0.5419\n",
            "Epoch 354/1000, Train Loss: 0.8948\n",
            "Epoch 355/1000, Train Loss: 0.7291\n",
            "Epoch 356/1000, Train Loss: 0.7716\n",
            "Epoch 357/1000, Train Loss: 0.9703\n",
            "Epoch 358/1000, Train Loss: 2.6306\n",
            "Epoch 359/1000, Train Loss: 1.4831\n",
            "Epoch 360/1000, Train Loss: 1.1507\n",
            "Epoch 361/1000, Train Loss: 0.6217\n",
            "Epoch 362/1000, Train Loss: 0.5268\n",
            "Epoch 363/1000, Train Loss: 0.4882\n",
            "Epoch 364/1000, Train Loss: 0.8261\n",
            "Epoch 365/1000, Train Loss: 0.6898\n",
            "Epoch 366/1000, Train Loss: 0.6990\n",
            "Epoch 367/1000, Train Loss: 0.6292\n",
            "Epoch 368/1000, Train Loss: 0.4647\n",
            "Epoch 369/1000, Train Loss: 0.4440\n",
            "Epoch 370/1000, Train Loss: 0.4557\n",
            "Epoch 371/1000, Train Loss: 1.3044\n",
            "Epoch 372/1000, Train Loss: 0.9259\n",
            "Epoch 373/1000, Train Loss: 0.6650\n",
            "Epoch 374/1000, Train Loss: 0.7354\n",
            "Epoch 375/1000, Train Loss: 1.1381\n",
            "Epoch 376/1000, Train Loss: 0.7395\n",
            "Epoch 377/1000, Train Loss: 0.6619\n",
            "Epoch 378/1000, Train Loss: 0.4748\n",
            "Epoch 379/1000, Train Loss: 0.4392\n",
            "Epoch 380/1000, Train Loss: 0.4270\n",
            "Epoch 381/1000, Train Loss: 0.3986\n",
            "Epoch 382/1000, Train Loss: 0.3889\n",
            "Epoch 383/1000, Train Loss: 0.3816\n",
            "Epoch 384/1000, Train Loss: 0.4797\n",
            "Epoch 385/1000, Train Loss: 0.8132\n",
            "Epoch 386/1000, Train Loss: 0.5733\n",
            "Epoch 387/1000, Train Loss: 0.9050\n",
            "Epoch 388/1000, Train Loss: 0.8734\n",
            "Epoch 389/1000, Train Loss: 1.2242\n",
            "Epoch 390/1000, Train Loss: 1.2128\n",
            "Epoch 391/1000, Train Loss: 0.9038\n",
            "Epoch 392/1000, Train Loss: 0.5902\n",
            "Epoch 393/1000, Train Loss: 0.5648\n",
            "Epoch 394/1000, Train Loss: 0.6134\n",
            "Epoch 395/1000, Train Loss: 0.5367\n",
            "Epoch 396/1000, Train Loss: 0.8689\n",
            "Epoch 397/1000, Train Loss: 0.9084\n",
            "Epoch 398/1000, Train Loss: 1.0543\n",
            "Epoch 399/1000, Train Loss: 0.7982\n",
            "Epoch 400/1000, Train Loss: 1.1249\n",
            "Epoch 401/1000, Train Loss: 0.8123\n",
            "Epoch 402/1000, Train Loss: 0.5702\n",
            "Epoch 403/1000, Train Loss: 0.5947\n",
            "Epoch 404/1000, Train Loss: 0.4816\n",
            "Epoch 405/1000, Train Loss: 0.4690\n",
            "Epoch 406/1000, Train Loss: 0.4479\n",
            "Epoch 407/1000, Train Loss: 0.5809\n",
            "Epoch 408/1000, Train Loss: 0.3930\n",
            "Epoch 409/1000, Train Loss: 0.3578\n",
            "Epoch 410/1000, Train Loss: 0.3511\n",
            "Epoch 411/1000, Train Loss: 0.3946\n",
            "Epoch 412/1000, Train Loss: 0.3372\n",
            "Epoch 413/1000, Train Loss: 0.3321\n",
            "Epoch 414/1000, Train Loss: 0.3518\n",
            "Epoch 415/1000, Train Loss: 0.4308\n",
            "Epoch 416/1000, Train Loss: 0.4019\n",
            "Epoch 417/1000, Train Loss: 0.3207\n",
            "Epoch 418/1000, Train Loss: 0.3463\n",
            "Epoch 419/1000, Train Loss: 0.3728\n",
            "Epoch 420/1000, Train Loss: 0.4076\n",
            "Epoch 421/1000, Train Loss: 0.4314\n",
            "Epoch 422/1000, Train Loss: 0.4158\n",
            "Epoch 423/1000, Train Loss: 0.3539\n",
            "Epoch 424/1000, Train Loss: 0.3074\n",
            "Epoch 425/1000, Train Loss: 0.5237\n",
            "Epoch 426/1000, Train Loss: 0.4407\n",
            "Epoch 427/1000, Train Loss: 0.3965\n",
            "Epoch 428/1000, Train Loss: 0.5095\n",
            "Epoch 429/1000, Train Loss: 0.5660\n",
            "Epoch 430/1000, Train Loss: 2.6847\n",
            "Epoch 431/1000, Train Loss: 2.4281\n",
            "Epoch 432/1000, Train Loss: 1.7385\n",
            "Epoch 433/1000, Train Loss: 1.9134\n",
            "Epoch 434/1000, Train Loss: 2.2058\n",
            "Epoch 435/1000, Train Loss: 1.0894\n",
            "Epoch 436/1000, Train Loss: 0.7847\n",
            "Epoch 437/1000, Train Loss: 0.8455\n",
            "Epoch 438/1000, Train Loss: 0.7358\n",
            "Epoch 439/1000, Train Loss: 0.7848\n",
            "Epoch 440/1000, Train Loss: 0.9789\n",
            "Epoch 441/1000, Train Loss: 0.8712\n",
            "Epoch 442/1000, Train Loss: 0.7933\n",
            "Epoch 443/1000, Train Loss: 1.3097\n",
            "Epoch 444/1000, Train Loss: 0.8471\n",
            "Epoch 445/1000, Train Loss: 0.5328\n",
            "Epoch 446/1000, Train Loss: 0.4904\n",
            "Epoch 447/1000, Train Loss: 0.4529\n",
            "Epoch 448/1000, Train Loss: 0.4079\n",
            "Epoch 449/1000, Train Loss: 0.5261\n",
            "Epoch 450/1000, Train Loss: 1.7478\n",
            "Epoch 451/1000, Train Loss: 1.0298\n",
            "Epoch 452/1000, Train Loss: 0.6057\n",
            "Epoch 453/1000, Train Loss: 0.4692\n",
            "Epoch 454/1000, Train Loss: 0.3812\n",
            "Epoch 455/1000, Train Loss: 0.3728\n",
            "Epoch 456/1000, Train Loss: 0.3783\n",
            "Epoch 457/1000, Train Loss: 0.4794\n",
            "Epoch 458/1000, Train Loss: 0.6838\n",
            "Epoch 459/1000, Train Loss: 1.1242\n",
            "Epoch 460/1000, Train Loss: 0.6179\n",
            "Epoch 461/1000, Train Loss: 0.4246\n",
            "Epoch 462/1000, Train Loss: 0.6319\n",
            "Epoch 463/1000, Train Loss: 0.3990\n",
            "Epoch 464/1000, Train Loss: 0.3692\n",
            "Epoch 465/1000, Train Loss: 0.4420\n",
            "Epoch 466/1000, Train Loss: 0.4850\n",
            "Epoch 467/1000, Train Loss: 0.4384\n",
            "Epoch 468/1000, Train Loss: 0.2894\n",
            "Epoch 469/1000, Train Loss: 0.2466\n",
            "Epoch 470/1000, Train Loss: 0.2831\n",
            "Epoch 471/1000, Train Loss: 0.2962\n",
            "Epoch 472/1000, Train Loss: 0.3541\n",
            "Epoch 473/1000, Train Loss: 0.3181\n",
            "Epoch 474/1000, Train Loss: 0.4662\n",
            "Epoch 475/1000, Train Loss: 0.3466\n",
            "Epoch 476/1000, Train Loss: 0.3467\n",
            "Epoch 477/1000, Train Loss: 0.3733\n",
            "Epoch 478/1000, Train Loss: 0.3972\n",
            "Epoch 479/1000, Train Loss: 0.4674\n",
            "Epoch 480/1000, Train Loss: 0.5210\n",
            "Epoch 481/1000, Train Loss: 0.3378\n",
            "Epoch 482/1000, Train Loss: 0.2869\n",
            "Epoch 483/1000, Train Loss: 0.2981\n",
            "Epoch 484/1000, Train Loss: 0.2613\n",
            "Epoch 485/1000, Train Loss: 0.5470\n",
            "Epoch 486/1000, Train Loss: 0.3653\n",
            "Epoch 487/1000, Train Loss: 0.3129\n",
            "Epoch 488/1000, Train Loss: 1.0303\n",
            "Epoch 489/1000, Train Loss: 0.6496\n",
            "Epoch 490/1000, Train Loss: 0.4357\n",
            "Epoch 491/1000, Train Loss: 0.3246\n",
            "Epoch 492/1000, Train Loss: 0.2866\n",
            "Epoch 493/1000, Train Loss: 0.3546\n",
            "Epoch 494/1000, Train Loss: 0.8080\n",
            "Epoch 495/1000, Train Loss: 0.4910\n",
            "Epoch 496/1000, Train Loss: 0.3753\n",
            "Epoch 497/1000, Train Loss: 0.4636\n",
            "Epoch 498/1000, Train Loss: 1.3793\n",
            "Epoch 499/1000, Train Loss: 0.9876\n",
            "Epoch 500/1000, Train Loss: 0.6727\n",
            "Epoch 501/1000, Train Loss: 0.5338\n",
            "Epoch 502/1000, Train Loss: 0.4063\n",
            "Epoch 503/1000, Train Loss: 0.4134\n",
            "Epoch 504/1000, Train Loss: 0.9676\n",
            "Epoch 505/1000, Train Loss: 0.5382\n",
            "Epoch 506/1000, Train Loss: 0.4797\n",
            "Epoch 507/1000, Train Loss: 0.3559\n",
            "Epoch 508/1000, Train Loss: 0.3127\n",
            "Epoch 509/1000, Train Loss: 0.4877\n",
            "Epoch 510/1000, Train Loss: 0.7593\n",
            "Epoch 511/1000, Train Loss: 2.0664\n",
            "Epoch 512/1000, Train Loss: 2.3609\n",
            "Epoch 513/1000, Train Loss: 1.0388\n",
            "Epoch 514/1000, Train Loss: 0.7516\n",
            "Epoch 515/1000, Train Loss: 0.6201\n",
            "Epoch 516/1000, Train Loss: 0.4435\n",
            "Epoch 517/1000, Train Loss: 0.3221\n",
            "Epoch 518/1000, Train Loss: 0.2934\n",
            "Epoch 519/1000, Train Loss: 0.3147\n",
            "Epoch 520/1000, Train Loss: 0.3492\n",
            "Epoch 521/1000, Train Loss: 0.3206\n",
            "Epoch 522/1000, Train Loss: 0.2911\n",
            "Epoch 523/1000, Train Loss: 0.2997\n",
            "Epoch 524/1000, Train Loss: 0.2890\n",
            "Epoch 525/1000, Train Loss: 0.2455\n",
            "Epoch 526/1000, Train Loss: 0.2244\n",
            "Epoch 527/1000, Train Loss: 0.2239\n",
            "Epoch 528/1000, Train Loss: 0.2200\n",
            "Epoch 529/1000, Train Loss: 0.2406\n",
            "Epoch 530/1000, Train Loss: 0.2975\n",
            "Epoch 531/1000, Train Loss: 0.2661\n",
            "Epoch 532/1000, Train Loss: 0.2301\n",
            "Epoch 533/1000, Train Loss: 0.1899\n",
            "Epoch 534/1000, Train Loss: 0.1995\n",
            "Epoch 535/1000, Train Loss: 0.1844\n",
            "Epoch 536/1000, Train Loss: 0.1819\n",
            "Epoch 537/1000, Train Loss: 0.1878\n",
            "Epoch 538/1000, Train Loss: 0.1889\n",
            "Epoch 539/1000, Train Loss: 0.2085\n",
            "Epoch 540/1000, Train Loss: 0.1836\n",
            "Epoch 541/1000, Train Loss: 0.2676\n",
            "Epoch 542/1000, Train Loss: 0.2574\n",
            "Epoch 543/1000, Train Loss: 0.2890\n",
            "Epoch 544/1000, Train Loss: 0.2372\n",
            "Epoch 545/1000, Train Loss: 0.2054\n",
            "Epoch 546/1000, Train Loss: 0.1894\n",
            "Epoch 547/1000, Train Loss: 0.2396\n",
            "Epoch 548/1000, Train Loss: 0.3277\n",
            "Epoch 549/1000, Train Loss: 0.2373\n",
            "Epoch 550/1000, Train Loss: 0.2209\n",
            "Epoch 551/1000, Train Loss: 0.2818\n",
            "Epoch 552/1000, Train Loss: 0.2744\n",
            "Epoch 553/1000, Train Loss: 0.2066\n",
            "Epoch 554/1000, Train Loss: 0.1812\n",
            "Epoch 555/1000, Train Loss: 0.1853\n",
            "Epoch 556/1000, Train Loss: 0.2503\n",
            "Epoch 557/1000, Train Loss: 0.4154\n",
            "Epoch 558/1000, Train Loss: 0.3732\n",
            "Epoch 559/1000, Train Loss: 0.3005\n",
            "Epoch 560/1000, Train Loss: 0.2934\n",
            "Epoch 561/1000, Train Loss: 0.3742\n",
            "Epoch 562/1000, Train Loss: 0.4625\n",
            "Epoch 563/1000, Train Loss: 0.2985\n",
            "Epoch 564/1000, Train Loss: 0.2750\n",
            "Epoch 565/1000, Train Loss: 0.2864\n",
            "Epoch 566/1000, Train Loss: 0.7285\n",
            "Epoch 567/1000, Train Loss: 0.6247\n",
            "Epoch 568/1000, Train Loss: 0.4411\n",
            "Epoch 569/1000, Train Loss: 0.5346\n",
            "Epoch 570/1000, Train Loss: 2.0315\n",
            "Epoch 571/1000, Train Loss: 1.5485\n",
            "Epoch 572/1000, Train Loss: 1.5619\n",
            "Epoch 573/1000, Train Loss: 5.0602\n",
            "Epoch 574/1000, Train Loss: 3.7709\n",
            "Epoch 575/1000, Train Loss: 2.3350\n",
            "Epoch 576/1000, Train Loss: 1.6698\n",
            "Epoch 577/1000, Train Loss: 1.0946\n",
            "Epoch 578/1000, Train Loss: 1.3163\n",
            "Epoch 579/1000, Train Loss: 1.1436\n",
            "Epoch 580/1000, Train Loss: 0.8181\n",
            "Epoch 581/1000, Train Loss: 0.6199\n",
            "Epoch 582/1000, Train Loss: 0.6066\n",
            "Epoch 583/1000, Train Loss: 0.5989\n",
            "Epoch 584/1000, Train Loss: 0.7697\n",
            "Epoch 585/1000, Train Loss: 0.7199\n",
            "Epoch 586/1000, Train Loss: 0.5688\n",
            "Epoch 587/1000, Train Loss: 0.5286\n",
            "Epoch 588/1000, Train Loss: 0.4122\n",
            "Epoch 589/1000, Train Loss: 0.8291\n",
            "Epoch 590/1000, Train Loss: 0.5813\n",
            "Epoch 591/1000, Train Loss: 0.5103\n",
            "Epoch 592/1000, Train Loss: 0.4748\n",
            "Epoch 593/1000, Train Loss: 0.3535\n",
            "Epoch 594/1000, Train Loss: 0.3979\n",
            "Epoch 595/1000, Train Loss: 0.3067\n",
            "Epoch 596/1000, Train Loss: 0.2842\n",
            "Epoch 597/1000, Train Loss: 0.2572\n",
            "Epoch 598/1000, Train Loss: 0.3638\n",
            "Epoch 599/1000, Train Loss: 1.0790\n",
            "Epoch 600/1000, Train Loss: 1.1563\n",
            "Epoch 601/1000, Train Loss: 0.4575\n",
            "Epoch 602/1000, Train Loss: 0.3884\n",
            "Epoch 603/1000, Train Loss: 0.3408\n",
            "Epoch 604/1000, Train Loss: 0.2545\n",
            "Epoch 605/1000, Train Loss: 0.2781\n",
            "Epoch 606/1000, Train Loss: 0.2494\n",
            "Epoch 607/1000, Train Loss: 0.3079\n",
            "Epoch 608/1000, Train Loss: 0.2573\n",
            "Epoch 609/1000, Train Loss: 0.2189\n",
            "Epoch 610/1000, Train Loss: 0.2479\n",
            "Epoch 611/1000, Train Loss: 0.4634\n",
            "Epoch 612/1000, Train Loss: 0.4396\n",
            "Epoch 613/1000, Train Loss: 0.3587\n",
            "Epoch 614/1000, Train Loss: 0.3099\n",
            "Epoch 615/1000, Train Loss: 0.3250\n",
            "Epoch 616/1000, Train Loss: 0.3693\n",
            "Epoch 617/1000, Train Loss: 1.1470\n",
            "Epoch 618/1000, Train Loss: 1.0426\n",
            "Epoch 619/1000, Train Loss: 0.5784\n",
            "Epoch 620/1000, Train Loss: 0.3823\n",
            "Epoch 621/1000, Train Loss: 0.2652\n",
            "Epoch 622/1000, Train Loss: 0.2486\n",
            "Epoch 623/1000, Train Loss: 0.2406\n",
            "Epoch 624/1000, Train Loss: 0.2725\n",
            "Epoch 625/1000, Train Loss: 0.2076\n",
            "Epoch 626/1000, Train Loss: 0.1777\n",
            "Epoch 627/1000, Train Loss: 0.1887\n",
            "Epoch 628/1000, Train Loss: 0.1924\n",
            "Epoch 629/1000, Train Loss: 0.1802\n",
            "Epoch 630/1000, Train Loss: 0.1737\n",
            "Epoch 631/1000, Train Loss: 0.2008\n",
            "Epoch 632/1000, Train Loss: 0.1847\n",
            "Epoch 633/1000, Train Loss: 0.1977\n",
            "Epoch 634/1000, Train Loss: 0.1844\n",
            "Epoch 635/1000, Train Loss: 0.1690\n",
            "Epoch 636/1000, Train Loss: 0.1659\n",
            "Epoch 637/1000, Train Loss: 0.1616\n",
            "Epoch 638/1000, Train Loss: 0.1743\n",
            "Epoch 639/1000, Train Loss: 0.2594\n",
            "Epoch 640/1000, Train Loss: 0.9818\n",
            "Epoch 641/1000, Train Loss: 0.7726\n",
            "Epoch 642/1000, Train Loss: 0.5463\n",
            "Epoch 643/1000, Train Loss: 1.2403\n",
            "Epoch 644/1000, Train Loss: 0.9416\n",
            "Epoch 645/1000, Train Loss: 0.5521\n",
            "Epoch 646/1000, Train Loss: 0.4308\n",
            "Epoch 647/1000, Train Loss: 0.4825\n",
            "Epoch 648/1000, Train Loss: 0.4879\n",
            "Epoch 649/1000, Train Loss: 0.4315\n",
            "Epoch 650/1000, Train Loss: 0.2898\n",
            "Epoch 651/1000, Train Loss: 0.3016\n",
            "Epoch 652/1000, Train Loss: 0.3892\n",
            "Epoch 653/1000, Train Loss: 0.2937\n",
            "Epoch 654/1000, Train Loss: 0.2916\n",
            "Epoch 655/1000, Train Loss: 0.5541\n",
            "Epoch 656/1000, Train Loss: 0.3611\n",
            "Epoch 657/1000, Train Loss: 2.2043\n",
            "Epoch 658/1000, Train Loss: 4.2081\n",
            "Epoch 659/1000, Train Loss: 2.3867\n",
            "Epoch 660/1000, Train Loss: 1.6331\n",
            "Epoch 661/1000, Train Loss: 1.4308\n",
            "Epoch 662/1000, Train Loss: 1.3121\n",
            "Epoch 663/1000, Train Loss: 0.8559\n",
            "Epoch 664/1000, Train Loss: 0.5785\n",
            "Epoch 665/1000, Train Loss: 0.4915\n",
            "Epoch 666/1000, Train Loss: 0.6356\n",
            "Epoch 667/1000, Train Loss: 0.5015\n",
            "Epoch 668/1000, Train Loss: 0.3651\n",
            "Epoch 669/1000, Train Loss: 0.2811\n",
            "Epoch 670/1000, Train Loss: 0.2654\n",
            "Epoch 671/1000, Train Loss: 0.2310\n",
            "Epoch 672/1000, Train Loss: 0.2146\n",
            "Epoch 673/1000, Train Loss: 0.3095\n",
            "Epoch 674/1000, Train Loss: 0.2171\n",
            "Epoch 675/1000, Train Loss: 0.1978\n",
            "Epoch 676/1000, Train Loss: 0.2123\n",
            "Epoch 677/1000, Train Loss: 0.2327\n",
            "Epoch 678/1000, Train Loss: 0.2598\n",
            "Epoch 679/1000, Train Loss: 0.2355\n",
            "Epoch 680/1000, Train Loss: 0.2461\n",
            "Epoch 681/1000, Train Loss: 0.2092\n",
            "Epoch 682/1000, Train Loss: 0.1772\n",
            "Epoch 683/1000, Train Loss: 0.1814\n",
            "Epoch 684/1000, Train Loss: 0.1559\n",
            "Epoch 685/1000, Train Loss: 0.1602\n",
            "Epoch 686/1000, Train Loss: 0.1582\n",
            "Epoch 687/1000, Train Loss: 0.1485\n",
            "Epoch 688/1000, Train Loss: 0.1416\n",
            "Epoch 689/1000, Train Loss: 0.1590\n",
            "Epoch 690/1000, Train Loss: 0.3427\n",
            "Epoch 691/1000, Train Loss: 0.2190\n",
            "Epoch 692/1000, Train Loss: 0.2002\n",
            "Epoch 693/1000, Train Loss: 0.1776\n",
            "Epoch 694/1000, Train Loss: 0.2058\n",
            "Epoch 695/1000, Train Loss: 0.2897\n",
            "Epoch 696/1000, Train Loss: 0.2474\n",
            "Epoch 697/1000, Train Loss: 0.2777\n",
            "Epoch 698/1000, Train Loss: 0.1945\n",
            "Epoch 699/1000, Train Loss: 0.1834\n",
            "Epoch 700/1000, Train Loss: 0.3046\n",
            "Epoch 701/1000, Train Loss: 0.3605\n",
            "Epoch 702/1000, Train Loss: 0.2193\n",
            "Epoch 703/1000, Train Loss: 0.1806\n",
            "Epoch 704/1000, Train Loss: 0.1714\n",
            "Epoch 705/1000, Train Loss: 0.2251\n",
            "Epoch 706/1000, Train Loss: 0.1607\n",
            "Epoch 707/1000, Train Loss: 0.1656\n",
            "Epoch 708/1000, Train Loss: 0.1871\n",
            "Epoch 709/1000, Train Loss: 0.3150\n",
            "Epoch 710/1000, Train Loss: 0.2080\n",
            "Epoch 711/1000, Train Loss: 0.2177\n",
            "Epoch 712/1000, Train Loss: 0.4529\n",
            "Epoch 713/1000, Train Loss: 0.3228\n",
            "Epoch 714/1000, Train Loss: 0.2064\n",
            "Epoch 715/1000, Train Loss: 0.1445\n",
            "Epoch 716/1000, Train Loss: 0.1420\n",
            "Epoch 717/1000, Train Loss: 0.1460\n",
            "Epoch 718/1000, Train Loss: 0.1585\n",
            "Epoch 719/1000, Train Loss: 0.1434\n",
            "Epoch 720/1000, Train Loss: 0.1326\n",
            "Epoch 721/1000, Train Loss: 0.1648\n",
            "Epoch 722/1000, Train Loss: 0.4327\n",
            "Epoch 723/1000, Train Loss: 0.3713\n",
            "Epoch 724/1000, Train Loss: 0.2551\n",
            "Epoch 725/1000, Train Loss: 0.2018\n",
            "Epoch 726/1000, Train Loss: 0.3308\n",
            "Epoch 727/1000, Train Loss: 0.2457\n",
            "Epoch 728/1000, Train Loss: 0.1753\n",
            "Epoch 729/1000, Train Loss: 0.1469\n",
            "Epoch 730/1000, Train Loss: 0.3546\n",
            "Epoch 731/1000, Train Loss: 0.1747\n",
            "Epoch 732/1000, Train Loss: 0.1585\n",
            "Epoch 733/1000, Train Loss: 0.1251\n",
            "Epoch 734/1000, Train Loss: 0.1266\n",
            "Epoch 735/1000, Train Loss: 0.1294\n",
            "Epoch 736/1000, Train Loss: 0.1262\n",
            "Epoch 737/1000, Train Loss: 0.1236\n",
            "Epoch 738/1000, Train Loss: 0.4505\n",
            "Epoch 739/1000, Train Loss: 0.7527\n",
            "Epoch 740/1000, Train Loss: 1.4625\n",
            "Epoch 741/1000, Train Loss: 1.2891\n",
            "Epoch 742/1000, Train Loss: 0.5136\n",
            "Epoch 743/1000, Train Loss: 0.7951\n",
            "Epoch 744/1000, Train Loss: 0.6448\n",
            "Epoch 745/1000, Train Loss: 0.5025\n",
            "Epoch 746/1000, Train Loss: 0.3083\n",
            "Epoch 747/1000, Train Loss: 0.2032\n",
            "Epoch 748/1000, Train Loss: 0.1730\n",
            "Epoch 749/1000, Train Loss: 0.1660\n",
            "Epoch 750/1000, Train Loss: 0.3040\n",
            "Epoch 751/1000, Train Loss: 0.2941\n",
            "Epoch 752/1000, Train Loss: 0.8956\n",
            "Epoch 753/1000, Train Loss: 0.8865\n",
            "Epoch 754/1000, Train Loss: 0.5365\n",
            "Epoch 755/1000, Train Loss: 0.3163\n",
            "Epoch 756/1000, Train Loss: 0.2923\n",
            "Epoch 757/1000, Train Loss: 0.2657\n",
            "Epoch 758/1000, Train Loss: 0.1980\n",
            "Epoch 759/1000, Train Loss: 0.1647\n",
            "Epoch 760/1000, Train Loss: 0.1817\n",
            "Epoch 761/1000, Train Loss: 0.1854\n",
            "Epoch 762/1000, Train Loss: 0.1737\n",
            "Epoch 763/1000, Train Loss: 0.1341\n",
            "Epoch 764/1000, Train Loss: 0.1319\n",
            "Epoch 765/1000, Train Loss: 0.1043\n",
            "Epoch 766/1000, Train Loss: 0.1308\n",
            "Epoch 767/1000, Train Loss: 0.1426\n",
            "Epoch 768/1000, Train Loss: 0.1176\n",
            "Epoch 769/1000, Train Loss: 0.1646\n",
            "Epoch 770/1000, Train Loss: 0.1208\n",
            "Epoch 771/1000, Train Loss: 0.1292\n",
            "Epoch 772/1000, Train Loss: 0.3133\n",
            "Epoch 773/1000, Train Loss: 0.3443\n",
            "Epoch 774/1000, Train Loss: 0.3230\n",
            "Epoch 775/1000, Train Loss: 0.2132\n",
            "Epoch 776/1000, Train Loss: 0.1341\n",
            "Epoch 777/1000, Train Loss: 0.1258\n",
            "Epoch 778/1000, Train Loss: 0.2405\n",
            "Epoch 779/1000, Train Loss: 0.5421\n",
            "Epoch 780/1000, Train Loss: 0.4042\n",
            "Epoch 781/1000, Train Loss: 0.2590\n",
            "Epoch 782/1000, Train Loss: 0.1921\n",
            "Epoch 783/1000, Train Loss: 0.1840\n",
            "Epoch 784/1000, Train Loss: 0.1742\n",
            "Epoch 785/1000, Train Loss: 0.1998\n",
            "Epoch 786/1000, Train Loss: 0.2740\n",
            "Epoch 787/1000, Train Loss: 0.2255\n",
            "Epoch 788/1000, Train Loss: 0.1536\n",
            "Epoch 789/1000, Train Loss: 0.1432\n",
            "Epoch 790/1000, Train Loss: 0.1079\n",
            "Epoch 791/1000, Train Loss: 0.1002\n",
            "Epoch 792/1000, Train Loss: 0.1037\n",
            "Epoch 793/1000, Train Loss: 0.0887\n",
            "Epoch 794/1000, Train Loss: 0.1224\n",
            "Epoch 795/1000, Train Loss: 0.1039\n",
            "Epoch 796/1000, Train Loss: 0.0906\n",
            "Epoch 797/1000, Train Loss: 0.0838\n",
            "Epoch 798/1000, Train Loss: 0.0860\n",
            "Epoch 799/1000, Train Loss: 0.0824\n",
            "Epoch 800/1000, Train Loss: 0.0808\n",
            "Epoch 801/1000, Train Loss: 0.0828\n",
            "Epoch 802/1000, Train Loss: 0.0799\n",
            "Epoch 803/1000, Train Loss: 0.0809\n",
            "Epoch 804/1000, Train Loss: 0.0779\n",
            "Epoch 805/1000, Train Loss: 0.1218\n",
            "Epoch 806/1000, Train Loss: 0.1905\n",
            "Epoch 807/1000, Train Loss: 0.1460\n",
            "Epoch 808/1000, Train Loss: 0.2385\n",
            "Epoch 809/1000, Train Loss: 0.1732\n",
            "Epoch 810/1000, Train Loss: 0.2107\n",
            "Epoch 811/1000, Train Loss: 0.5206\n",
            "Epoch 812/1000, Train Loss: 0.2641\n",
            "Epoch 813/1000, Train Loss: 0.3543\n",
            "Epoch 814/1000, Train Loss: 0.2766\n",
            "Epoch 815/1000, Train Loss: 0.8349\n",
            "Epoch 816/1000, Train Loss: 0.5141\n",
            "Epoch 817/1000, Train Loss: 0.5467\n",
            "Epoch 818/1000, Train Loss: 0.4163\n",
            "Epoch 819/1000, Train Loss: 0.4479\n",
            "Epoch 820/1000, Train Loss: 0.7874\n",
            "Epoch 821/1000, Train Loss: 0.4256\n",
            "Epoch 822/1000, Train Loss: 0.4685\n",
            "Epoch 823/1000, Train Loss: 0.4107\n",
            "Epoch 824/1000, Train Loss: 0.6012\n",
            "Epoch 825/1000, Train Loss: 0.4188\n",
            "Epoch 826/1000, Train Loss: 0.3884\n",
            "Epoch 827/1000, Train Loss: 0.2982\n",
            "Epoch 828/1000, Train Loss: 0.2411\n",
            "Epoch 829/1000, Train Loss: 0.2106\n",
            "Epoch 830/1000, Train Loss: 0.1773\n",
            "Epoch 831/1000, Train Loss: 0.1323\n",
            "Epoch 832/1000, Train Loss: 0.1130\n",
            "Epoch 833/1000, Train Loss: 0.1454\n",
            "Epoch 834/1000, Train Loss: 0.1316\n",
            "Epoch 835/1000, Train Loss: 0.1201\n",
            "Epoch 836/1000, Train Loss: 0.1851\n",
            "Epoch 837/1000, Train Loss: 0.2024\n",
            "Epoch 838/1000, Train Loss: 0.1944\n",
            "Epoch 839/1000, Train Loss: 0.1796\n",
            "Epoch 840/1000, Train Loss: 0.1278\n",
            "Epoch 841/1000, Train Loss: 0.0973\n",
            "Epoch 842/1000, Train Loss: 0.0931\n",
            "Epoch 843/1000, Train Loss: 0.0890\n",
            "Epoch 844/1000, Train Loss: 0.0867\n",
            "Epoch 845/1000, Train Loss: 0.0788\n",
            "Epoch 846/1000, Train Loss: 0.0895\n",
            "Epoch 847/1000, Train Loss: 0.1112\n",
            "Epoch 848/1000, Train Loss: 0.0988\n",
            "Epoch 849/1000, Train Loss: 0.0817\n",
            "Epoch 850/1000, Train Loss: 0.0875\n",
            "Epoch 851/1000, Train Loss: 0.1047\n",
            "Epoch 852/1000, Train Loss: 0.2518\n",
            "Epoch 853/1000, Train Loss: 0.2684\n",
            "Epoch 854/1000, Train Loss: 0.2297\n",
            "Epoch 855/1000, Train Loss: 0.1823\n",
            "Epoch 856/1000, Train Loss: 0.5527\n",
            "Epoch 857/1000, Train Loss: 0.3467\n",
            "Epoch 858/1000, Train Loss: 0.2351\n",
            "Epoch 859/1000, Train Loss: 0.1557\n",
            "Epoch 860/1000, Train Loss: 0.1321\n",
            "Epoch 861/1000, Train Loss: 0.1386\n",
            "Epoch 862/1000, Train Loss: 0.1849\n",
            "Epoch 863/1000, Train Loss: 0.1731\n",
            "Epoch 864/1000, Train Loss: 1.3001\n",
            "Epoch 865/1000, Train Loss: 2.9292\n",
            "Epoch 866/1000, Train Loss: 8.7521\n",
            "Epoch 867/1000, Train Loss: 6.7929\n",
            "Epoch 868/1000, Train Loss: 6.1694\n",
            "Epoch 869/1000, Train Loss: 4.6134\n",
            "Epoch 870/1000, Train Loss: 3.9843\n",
            "Epoch 871/1000, Train Loss: 3.8012\n",
            "Epoch 872/1000, Train Loss: 3.1555\n",
            "Epoch 873/1000, Train Loss: 2.9627\n",
            "Epoch 874/1000, Train Loss: 2.6009\n",
            "Epoch 875/1000, Train Loss: 2.5298\n",
            "Epoch 876/1000, Train Loss: 2.3786\n",
            "Epoch 877/1000, Train Loss: 2.0957\n",
            "Epoch 878/1000, Train Loss: 1.6176\n",
            "Epoch 879/1000, Train Loss: 1.4721\n",
            "Epoch 880/1000, Train Loss: 1.3356\n",
            "Epoch 881/1000, Train Loss: 1.4526\n",
            "Epoch 882/1000, Train Loss: 1.3823\n",
            "Epoch 883/1000, Train Loss: 1.3488\n",
            "Epoch 884/1000, Train Loss: 1.1984\n",
            "Epoch 885/1000, Train Loss: 1.0994\n",
            "Epoch 886/1000, Train Loss: 1.0220\n",
            "Epoch 887/1000, Train Loss: 1.7261\n",
            "Epoch 888/1000, Train Loss: 1.3210\n",
            "Epoch 889/1000, Train Loss: 1.1527\n",
            "Epoch 890/1000, Train Loss: 1.0376\n",
            "Epoch 891/1000, Train Loss: 0.9440\n",
            "Epoch 892/1000, Train Loss: 0.9096\n",
            "Epoch 893/1000, Train Loss: 0.7565\n",
            "Epoch 894/1000, Train Loss: 0.9079\n",
            "Epoch 895/1000, Train Loss: 0.9589\n",
            "Epoch 896/1000, Train Loss: 1.0386\n",
            "Epoch 897/1000, Train Loss: 0.8154\n",
            "Epoch 898/1000, Train Loss: 0.7896\n",
            "Epoch 899/1000, Train Loss: 0.7187\n",
            "Epoch 900/1000, Train Loss: 0.7582\n",
            "Epoch 901/1000, Train Loss: 0.8172\n",
            "Epoch 902/1000, Train Loss: 0.7888\n",
            "Epoch 903/1000, Train Loss: 0.7358\n",
            "Epoch 904/1000, Train Loss: 0.6792\n",
            "Epoch 905/1000, Train Loss: 0.7092\n",
            "Epoch 906/1000, Train Loss: 0.8112\n",
            "Epoch 907/1000, Train Loss: 0.9533\n",
            "Epoch 908/1000, Train Loss: 0.6617\n",
            "Epoch 909/1000, Train Loss: 0.6288\n",
            "Epoch 910/1000, Train Loss: 0.9708\n",
            "Epoch 911/1000, Train Loss: 0.8633\n",
            "Epoch 912/1000, Train Loss: 0.6932\n",
            "Epoch 913/1000, Train Loss: 0.5731\n",
            "Epoch 914/1000, Train Loss: 0.5195\n",
            "Epoch 915/1000, Train Loss: 0.5243\n",
            "Epoch 916/1000, Train Loss: 0.4578\n",
            "Epoch 917/1000, Train Loss: 0.5040\n",
            "Epoch 918/1000, Train Loss: 0.4907\n",
            "Epoch 919/1000, Train Loss: 0.5556\n",
            "Epoch 920/1000, Train Loss: 0.4920\n",
            "Epoch 921/1000, Train Loss: 0.4455\n",
            "Epoch 922/1000, Train Loss: 0.3680\n",
            "Epoch 923/1000, Train Loss: 0.3786\n",
            "Epoch 924/1000, Train Loss: 0.3637\n",
            "Epoch 925/1000, Train Loss: 0.6278\n",
            "Epoch 926/1000, Train Loss: 0.5738\n",
            "Epoch 927/1000, Train Loss: 0.4646\n",
            "Epoch 928/1000, Train Loss: 0.3208\n",
            "Epoch 929/1000, Train Loss: 0.3569\n",
            "Epoch 930/1000, Train Loss: 0.3780\n",
            "Epoch 931/1000, Train Loss: 0.6143\n",
            "Epoch 932/1000, Train Loss: 0.5162\n",
            "Epoch 933/1000, Train Loss: 0.5813\n",
            "Epoch 934/1000, Train Loss: 0.3925\n",
            "Epoch 935/1000, Train Loss: 0.3686\n",
            "Epoch 936/1000, Train Loss: 0.2765\n",
            "Epoch 937/1000, Train Loss: 0.3779\n",
            "Epoch 938/1000, Train Loss: 0.2795\n",
            "Epoch 939/1000, Train Loss: 0.2317\n",
            "Epoch 940/1000, Train Loss: 0.2196\n",
            "Epoch 941/1000, Train Loss: 0.1906\n",
            "Epoch 942/1000, Train Loss: 0.2158\n",
            "Epoch 943/1000, Train Loss: 0.2300\n",
            "Epoch 944/1000, Train Loss: 0.1978\n",
            "Epoch 945/1000, Train Loss: 0.1935\n",
            "Epoch 946/1000, Train Loss: 0.1846\n",
            "Epoch 947/1000, Train Loss: 0.1662\n",
            "Epoch 948/1000, Train Loss: 0.1678\n",
            "Epoch 949/1000, Train Loss: 0.1975\n",
            "Epoch 950/1000, Train Loss: 0.2714\n",
            "Epoch 951/1000, Train Loss: 0.6840\n",
            "Epoch 952/1000, Train Loss: 0.4879\n",
            "Epoch 953/1000, Train Loss: 0.3723\n",
            "Epoch 954/1000, Train Loss: 0.3263\n",
            "Epoch 955/1000, Train Loss: 1.2254\n",
            "Epoch 956/1000, Train Loss: 2.5955\n",
            "Epoch 957/1000, Train Loss: 1.3343\n",
            "Epoch 958/1000, Train Loss: 2.1293\n",
            "Epoch 959/1000, Train Loss: 1.2073\n",
            "Epoch 960/1000, Train Loss: 0.7524\n",
            "Epoch 961/1000, Train Loss: 0.5725\n",
            "Epoch 962/1000, Train Loss: 0.5333\n",
            "Epoch 963/1000, Train Loss: 0.5264\n",
            "Epoch 964/1000, Train Loss: 0.4132\n",
            "Epoch 965/1000, Train Loss: 0.3936\n",
            "Epoch 966/1000, Train Loss: 0.3723\n",
            "Epoch 967/1000, Train Loss: 0.7203\n",
            "Epoch 968/1000, Train Loss: 0.4787\n",
            "Epoch 969/1000, Train Loss: 0.8025\n",
            "Epoch 970/1000, Train Loss: 1.8313\n",
            "Epoch 971/1000, Train Loss: 1.1127\n",
            "Epoch 972/1000, Train Loss: 0.7778\n",
            "Epoch 973/1000, Train Loss: 0.6610\n",
            "Epoch 974/1000, Train Loss: 0.4993\n",
            "Epoch 975/1000, Train Loss: 0.4054\n",
            "Epoch 976/1000, Train Loss: 0.8379\n",
            "Epoch 977/1000, Train Loss: 0.4746\n",
            "Epoch 978/1000, Train Loss: 0.3888\n",
            "Epoch 979/1000, Train Loss: 0.3738\n",
            "Epoch 980/1000, Train Loss: 1.0465\n",
            "Epoch 981/1000, Train Loss: 0.7141\n",
            "Epoch 982/1000, Train Loss: 0.4385\n",
            "Epoch 983/1000, Train Loss: 0.2901\n",
            "Epoch 984/1000, Train Loss: 0.3867\n",
            "Epoch 985/1000, Train Loss: 0.3033\n",
            "Epoch 986/1000, Train Loss: 0.2579\n",
            "Epoch 987/1000, Train Loss: 0.7196\n",
            "Epoch 988/1000, Train Loss: 0.6201\n",
            "Epoch 989/1000, Train Loss: 0.4276\n",
            "Epoch 990/1000, Train Loss: 0.2998\n",
            "Epoch 991/1000, Train Loss: 0.3223\n",
            "Epoch 992/1000, Train Loss: 0.2372\n",
            "Epoch 993/1000, Train Loss: 0.2408\n",
            "Epoch 994/1000, Train Loss: 0.1738\n",
            "Epoch 995/1000, Train Loss: 0.1596\n",
            "Epoch 996/1000, Train Loss: 0.1625\n",
            "Epoch 997/1000, Train Loss: 0.1702\n",
            "Epoch 998/1000, Train Loss: 0.1557\n",
            "Epoch 999/1000, Train Loss: 0.1398\n",
            "Epoch 1000/1000, Train Loss: 0.1403\n"
          ]
        }
      ]
    },
    {
      "cell_type": "markdown",
      "source": [
        "### Test one molecule"
      ],
      "metadata": {
        "id": "_-EtEbSux8Yf"
      }
    },
    {
      "cell_type": "code",
      "source": [
        "single_molecule = test_dataset[np.random.randint(0, len(test_dataset))]\n",
        "\n",
        "single_molecule = single_molecule.to(device)"
      ],
      "metadata": {
        "id": "PiiNWn8hMAUw"
      },
      "execution_count": 169,
      "outputs": []
    },
    {
      "cell_type": "code",
      "source": [
        "model.eval()\n",
        "with torch.no_grad():\n",
        "    prediction = model(single_molecule)\n",
        "    print(f\"Predicted hydration energy: {prediction.item()}\")"
      ],
      "metadata": {
        "colab": {
          "base_uri": "https://localhost:8080/"
        },
        "id": "h-n7nlZ5C5JA",
        "outputId": "824e12db-2c32-40d1-f071-004d95c11178"
      },
      "execution_count": 170,
      "outputs": [
        {
          "output_type": "stream",
          "name": "stdout",
          "text": [
            "Predicted hydration energy: 2.329380989074707\n"
          ]
        }
      ]
    },
    {
      "cell_type": "code",
      "source": [
        "single_molecule.y"
      ],
      "metadata": {
        "colab": {
          "base_uri": "https://localhost:8080/"
        },
        "id": "_PoqXWyNC-q1",
        "outputId": "3e7a53f2-1ebd-4787-9b97-860560302ffd"
      },
      "execution_count": 171,
      "outputs": [
        {
          "output_type": "execute_result",
          "data": {
            "text/plain": [
              "tensor([[2.5100]])"
            ]
          },
          "metadata": {},
          "execution_count": 171
        }
      ]
    },
    {
      "cell_type": "code",
      "source": [
        "mol=Chem.MolFromSmiles(single_molecule.smiles)"
      ],
      "metadata": {
        "id": "vuyRCZMJD4rD"
      },
      "execution_count": 172,
      "outputs": []
    },
    {
      "cell_type": "code",
      "source": [
        "mol"
      ],
      "metadata": {
        "colab": {
          "base_uri": "https://localhost:8080/",
          "height": 167
        },
        "id": "VwLoHhO8UWuZ",
        "outputId": "f0d16be3-5d5c-4a31-84df-f802a4e83430"
      },
      "execution_count": 173,
      "outputs": [
        {
          "output_type": "execute_result",
          "data": {
            "text/plain": [
              "<rdkit.Chem.rdchem.Mol at 0x7b3a42780eb0>"
            ],
            "image/png": "[encoded data removed]"
          },
          "metadata": {},
          "execution_count": 173
        }
      ]
    },
    {
      "cell_type": "markdown",
      "source": [
        "### Testing"
      ],
      "metadata": {
        "id": "p4KAB8tpx1n_"
      }
    },
    {
      "cell_type": "code",
      "source": [
        "def testing(data):\n",
        "  model.eval()\n",
        "  total_loss = 0\n",
        "  with torch.no_grad():\n",
        "    for data in test_loader:\n",
        "      data = data.to(device)\n",
        "      output = model(data)\n",
        "      loss = criterion(output, data.y.view(-1, 1))\n",
        "      total_loss += loss.item()\n",
        "  return total_loss / len(test_loader)"
      ],
      "metadata": {
        "id": "hXjNW40kUhsk"
      },
      "execution_count": 174,
      "outputs": []
    },
    {
      "cell_type": "code",
      "source": [
        "print(f\"Test Loss: {testing(test_loader):.4f}\")"
      ],
      "metadata": {
        "colab": {
          "base_uri": "https://localhost:8080/"
        },
        "id": "LXNlSn3u0DTs",
        "outputId": "c53257e4-3248-4bcf-846f-55d0150a9d23"
      },
      "execution_count": 175,
      "outputs": [
        {
          "output_type": "stream",
          "name": "stdout",
          "text": [
            "Test Loss: 2.4302\n"
          ]
        }
      ]
    },
    {
      "cell_type": "code",
      "source": [],
      "metadata": {
        "id": "mzFrSztH0HYG"
      },
      "execution_count": null,
      "outputs": []
    }
  ]
}